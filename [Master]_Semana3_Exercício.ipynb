{
  "nbformat": 4,
  "nbformat_minor": 0,
  "metadata": {
    "colab": {
      "provenance": [],
      "include_colab_link": true
    },
    "kernelspec": {
      "name": "python3",
      "display_name": "Python 3"
    },
    "language_info": {
      "name": "python"
    }
  },
  "cells": [
    {
      "cell_type": "markdown",
      "metadata": {
        "id": "view-in-github",
        "colab_type": "text"
      },
      "source": [
        "<a href=\"https://colab.research.google.com/github/rodrigohattori/exercicios_sirius/blob/main/%5BMaster%5D_Semana3_Exerc%C3%ADcio.ipynb\" target=\"_parent\"><img src=\"https://colab.research.google.com/assets/colab-badge.svg\" alt=\"Open In Colab\"/></a>"
      ]
    },
    {
      "cell_type": "markdown",
      "source": [
        "# Clusterização\n",
        "\n",
        "### Atividade 1: Crie um dataframe a partir do banco de dados `basedosdados.br_inep_ideb.municipio` disponível em [Ideb](https://basedosdados.org/dataset/br-inep-ideb?bdm_table=municipio). Selecione apenas as colunas `ano`, `sigla_uf`, `taxa_aprovacao`, `nota_saeb_matematica`, `nota_saeb_lingua_portuguesa` e `ideb`."
      ],
      "metadata": {
        "id": "eI_n6yqQcTJp"
      }
    },
    {
      "cell_type": "code",
      "source": [
        "# seu código\n",
        "import pandas as pd\n",
        "\n",
        "from google.colab import drive\n",
        "drive.mount('/content/drive')\n"
      ],
      "metadata": {
        "id": "MTBYqZAAWBEq",
        "colab": {
          "base_uri": "https://localhost:8080/"
        },
        "outputId": "a5902b5d-a43c-48bc-ee88-81e7ceda0c42"
      },
      "execution_count": null,
      "outputs": [
        {
          "output_type": "stream",
          "name": "stdout",
          "text": [
            "Mounted at /content/drive\n"
          ]
        }
      ]
    },
    {
      "cell_type": "code",
      "source": [
        "df = pd.read_csv('/content/drive/MyDrive/Sirius_MD&DS/Arquivos/ideb.csv')\n",
        "df.info()"
      ],
      "metadata": {
        "colab": {
          "base_uri": "https://localhost:8080/"
        },
        "id": "Kcqi3g9UBYCv",
        "outputId": "15bd52f7-3ac8-445e-da69-332d384c6ac0"
      },
      "execution_count": null,
      "outputs": [
        {
          "output_type": "stream",
          "name": "stdout",
          "text": [
            "<class 'pandas.core.frame.DataFrame'>\n",
            "Int64Index: 294426 entries, 0 to 294425\n",
            "Data columns (total 13 columns):\n",
            " #   Column                       Non-Null Count   Dtype  \n",
            "---  ------                       --------------   -----  \n",
            " 0   ano                          294426 non-null  int64  \n",
            " 1   sigla_uf                     294426 non-null  object \n",
            " 2   id_municipio                 294426 non-null  int64  \n",
            " 3   rede                         294426 non-null  object \n",
            " 4   ensino                       294426 non-null  object \n",
            " 5   anos_escolares               294426 non-null  object \n",
            " 6   taxa_aprovacao               230833 non-null  float64\n",
            " 7   indicador_rendimento         230823 non-null  float64\n",
            " 8   nota_saeb_matematica         197870 non-null  float64\n",
            " 9   nota_saeb_lingua_portuguesa  197870 non-null  float64\n",
            " 10  nota_saeb_media_padronizada  222078 non-null  float64\n",
            " 11  ideb                         222045 non-null  float64\n",
            " 12  projecao                     242395 non-null  float64\n",
            "dtypes: float64(7), int64(2), object(4)\n",
            "memory usage: 31.4+ MB\n"
          ]
        }
      ]
    },
    {
      "cell_type": "code",
      "source": [
        "df_col = df[['ano',\n",
        "             'sigla_uf', \n",
        "             'taxa_aprovacao',\n",
        "             'nota_saeb_matematica',\n",
        "             'nota_saeb_lingua_portuguesa',\n",
        "             'ideb']]\n",
        "df_col.info()"
      ],
      "metadata": {
        "colab": {
          "base_uri": "https://localhost:8080/"
        },
        "id": "XiqwMUTlCnxL",
        "outputId": "79363cff-82e0-4ac3-840c-3e99a0bbee8c"
      },
      "execution_count": null,
      "outputs": [
        {
          "output_type": "stream",
          "name": "stdout",
          "text": [
            "<class 'pandas.core.frame.DataFrame'>\n",
            "Int64Index: 294426 entries, 0 to 294425\n",
            "Data columns (total 6 columns):\n",
            " #   Column                       Non-Null Count   Dtype  \n",
            "---  ------                       --------------   -----  \n",
            " 0   ano                          294426 non-null  int64  \n",
            " 1   sigla_uf                     294426 non-null  object \n",
            " 2   taxa_aprovacao               230833 non-null  float64\n",
            " 3   nota_saeb_matematica         197870 non-null  float64\n",
            " 4   nota_saeb_lingua_portuguesa  197870 non-null  float64\n",
            " 5   ideb                         222045 non-null  float64\n",
            "dtypes: float64(4), int64(1), object(1)\n",
            "memory usage: 15.7+ MB\n"
          ]
        }
      ]
    },
    {
      "cell_type": "code",
      "source": [
        "df_col.head()"
      ],
      "metadata": {
        "colab": {
          "base_uri": "https://localhost:8080/",
          "height": 206
        },
        "id": "iVEA-SE8Cn81",
        "outputId": "da2defa9-0508-44dc-b202-0113b135a02c"
      },
      "execution_count": null,
      "outputs": [
        {
          "output_type": "execute_result",
          "data": {
            "text/plain": [
              "    ano sigla_uf  taxa_aprovacao  nota_saeb_matematica  \\\n",
              "0  2005       AC            53.9                 167.8   \n",
              "1  2005       AC            49.3                 151.8   \n",
              "2  2005       AC            48.8                 163.6   \n",
              "3  2005       AC            48.8                 159.0   \n",
              "4  2005       AC            74.7                 138.0   \n",
              "\n",
              "   nota_saeb_lingua_portuguesa  ideb  \n",
              "0                       165.60   2.3  \n",
              "1                       149.60   1.8  \n",
              "2                       155.80   1.9  \n",
              "3                       153.39   1.9  \n",
              "4                       134.19   2.3  "
            ],
            "text/html": [
              "\n",
              "  <div id=\"df-c05cf6d5-ea82-4979-b927-73ef955fba10\">\n",
              "    <div class=\"colab-df-container\">\n",
              "      <div>\n",
              "<style scoped>\n",
              "    .dataframe tbody tr th:only-of-type {\n",
              "        vertical-align: middle;\n",
              "    }\n",
              "\n",
              "    .dataframe tbody tr th {\n",
              "        vertical-align: top;\n",
              "    }\n",
              "\n",
              "    .dataframe thead th {\n",
              "        text-align: right;\n",
              "    }\n",
              "</style>\n",
              "<table border=\"1\" class=\"dataframe\">\n",
              "  <thead>\n",
              "    <tr style=\"text-align: right;\">\n",
              "      <th></th>\n",
              "      <th>ano</th>\n",
              "      <th>sigla_uf</th>\n",
              "      <th>taxa_aprovacao</th>\n",
              "      <th>nota_saeb_matematica</th>\n",
              "      <th>nota_saeb_lingua_portuguesa</th>\n",
              "      <th>ideb</th>\n",
              "    </tr>\n",
              "  </thead>\n",
              "  <tbody>\n",
              "    <tr>\n",
              "      <th>0</th>\n",
              "      <td>2005</td>\n",
              "      <td>AC</td>\n",
              "      <td>53.9</td>\n",
              "      <td>167.8</td>\n",
              "      <td>165.60</td>\n",
              "      <td>2.3</td>\n",
              "    </tr>\n",
              "    <tr>\n",
              "      <th>1</th>\n",
              "      <td>2005</td>\n",
              "      <td>AC</td>\n",
              "      <td>49.3</td>\n",
              "      <td>151.8</td>\n",
              "      <td>149.60</td>\n",
              "      <td>1.8</td>\n",
              "    </tr>\n",
              "    <tr>\n",
              "      <th>2</th>\n",
              "      <td>2005</td>\n",
              "      <td>AC</td>\n",
              "      <td>48.8</td>\n",
              "      <td>163.6</td>\n",
              "      <td>155.80</td>\n",
              "      <td>1.9</td>\n",
              "    </tr>\n",
              "    <tr>\n",
              "      <th>3</th>\n",
              "      <td>2005</td>\n",
              "      <td>AC</td>\n",
              "      <td>48.8</td>\n",
              "      <td>159.0</td>\n",
              "      <td>153.39</td>\n",
              "      <td>1.9</td>\n",
              "    </tr>\n",
              "    <tr>\n",
              "      <th>4</th>\n",
              "      <td>2005</td>\n",
              "      <td>AC</td>\n",
              "      <td>74.7</td>\n",
              "      <td>138.0</td>\n",
              "      <td>134.19</td>\n",
              "      <td>2.3</td>\n",
              "    </tr>\n",
              "  </tbody>\n",
              "</table>\n",
              "</div>\n",
              "      <button class=\"colab-df-convert\" onclick=\"convertToInteractive('df-c05cf6d5-ea82-4979-b927-73ef955fba10')\"\n",
              "              title=\"Convert this dataframe to an interactive table.\"\n",
              "              style=\"display:none;\">\n",
              "        \n",
              "  <svg xmlns=\"http://www.w3.org/2000/svg\" height=\"24px\"viewBox=\"0 0 24 24\"\n",
              "       width=\"24px\">\n",
              "    <path d=\"M0 0h24v24H0V0z\" fill=\"none\"/>\n",
              "    <path d=\"M18.56 5.44l.94 2.06.94-2.06 2.06-.94-2.06-.94-.94-2.06-.94 2.06-2.06.94zm-11 1L8.5 8.5l.94-2.06 2.06-.94-2.06-.94L8.5 2.5l-.94 2.06-2.06.94zm10 10l.94 2.06.94-2.06 2.06-.94-2.06-.94-.94-2.06-.94 2.06-2.06.94z\"/><path d=\"M17.41 7.96l-1.37-1.37c-.4-.4-.92-.59-1.43-.59-.52 0-1.04.2-1.43.59L10.3 9.45l-7.72 7.72c-.78.78-.78 2.05 0 2.83L4 21.41c.39.39.9.59 1.41.59.51 0 1.02-.2 1.41-.59l7.78-7.78 2.81-2.81c.8-.78.8-2.07 0-2.86zM5.41 20L4 18.59l7.72-7.72 1.47 1.35L5.41 20z\"/>\n",
              "  </svg>\n",
              "      </button>\n",
              "      \n",
              "  <style>\n",
              "    .colab-df-container {\n",
              "      display:flex;\n",
              "      flex-wrap:wrap;\n",
              "      gap: 12px;\n",
              "    }\n",
              "\n",
              "    .colab-df-convert {\n",
              "      background-color: #E8F0FE;\n",
              "      border: none;\n",
              "      border-radius: 50%;\n",
              "      cursor: pointer;\n",
              "      display: none;\n",
              "      fill: #1967D2;\n",
              "      height: 32px;\n",
              "      padding: 0 0 0 0;\n",
              "      width: 32px;\n",
              "    }\n",
              "\n",
              "    .colab-df-convert:hover {\n",
              "      background-color: #E2EBFA;\n",
              "      box-shadow: 0px 1px 2px rgba(60, 64, 67, 0.3), 0px 1px 3px 1px rgba(60, 64, 67, 0.15);\n",
              "      fill: #174EA6;\n",
              "    }\n",
              "\n",
              "    [theme=dark] .colab-df-convert {\n",
              "      background-color: #3B4455;\n",
              "      fill: #D2E3FC;\n",
              "    }\n",
              "\n",
              "    [theme=dark] .colab-df-convert:hover {\n",
              "      background-color: #434B5C;\n",
              "      box-shadow: 0px 1px 3px 1px rgba(0, 0, 0, 0.15);\n",
              "      filter: drop-shadow(0px 1px 2px rgba(0, 0, 0, 0.3));\n",
              "      fill: #FFFFFF;\n",
              "    }\n",
              "  </style>\n",
              "\n",
              "      <script>\n",
              "        const buttonEl =\n",
              "          document.querySelector('#df-c05cf6d5-ea82-4979-b927-73ef955fba10 button.colab-df-convert');\n",
              "        buttonEl.style.display =\n",
              "          google.colab.kernel.accessAllowed ? 'block' : 'none';\n",
              "\n",
              "        async function convertToInteractive(key) {\n",
              "          const element = document.querySelector('#df-c05cf6d5-ea82-4979-b927-73ef955fba10');\n",
              "          const dataTable =\n",
              "            await google.colab.kernel.invokeFunction('convertToInteractive',\n",
              "                                                     [key], {});\n",
              "          if (!dataTable) return;\n",
              "\n",
              "          const docLinkHtml = 'Like what you see? Visit the ' +\n",
              "            '<a target=\"_blank\" href=https://colab.research.google.com/notebooks/data_table.ipynb>data table notebook</a>'\n",
              "            + ' to learn more about interactive tables.';\n",
              "          element.innerHTML = '';\n",
              "          dataTable['output_type'] = 'display_data';\n",
              "          await google.colab.output.renderOutput(dataTable, element);\n",
              "          const docLink = document.createElement('div');\n",
              "          docLink.innerHTML = docLinkHtml;\n",
              "          element.appendChild(docLink);\n",
              "        }\n",
              "      </script>\n",
              "    </div>\n",
              "  </div>\n",
              "  "
            ]
          },
          "metadata": {},
          "execution_count": 15
        }
      ]
    },
    {
      "cell_type": "markdown",
      "source": [
        "### Atividade 2: Selecione apenas os dados referentes ao ano de 2019 e agrupe os dados por estado, considerando a média."
      ],
      "metadata": {
        "id": "eqPLrlMzdVt9"
      }
    },
    {
      "cell_type": "code",
      "source": [
        "# seu código\n",
        "df_2019 = df_col.loc[df_col['ano'] == 2019]\n",
        "df_2019.head(10)"
      ],
      "metadata": {
        "id": "XrbwGjo_WEn3",
        "colab": {
          "base_uri": "https://localhost:8080/",
          "height": 363
        },
        "outputId": "5c02ff50-3a44-4583-aab0-bd1e12d5194d"
      },
      "execution_count": null,
      "outputs": [
        {
          "output_type": "execute_result",
          "data": {
            "text/plain": [
              "       ano sigla_uf  taxa_aprovacao  nota_saeb_matematica  \\\n",
              "8947  2019       AC            98.2                288.92   \n",
              "8948  2019       AC            96.5                254.78   \n",
              "8949  2019       AC            97.7                246.47   \n",
              "8950  2019       AC            97.6                256.67   \n",
              "8951  2019       AL           100.0                261.32   \n",
              "8952  2019       AL           100.0                261.32   \n",
              "8953  2019       AL            97.9                338.92   \n",
              "8954  2019       AL            99.6                306.95   \n",
              "8955  2019       AL            97.9                338.92   \n",
              "8956  2019       AL            99.6                306.95   \n",
              "\n",
              "      nota_saeb_lingua_portuguesa  ideb  \n",
              "8947                       263.10   8.1  \n",
              "8948                       231.63   6.8  \n",
              "8949                       228.63   6.7  \n",
              "8950                       231.75   6.9  \n",
              "8951                       223.47   7.0  \n",
              "8952                       223.47   7.0  \n",
              "8953                       304.45   7.2  \n",
              "8954                       281.26   8.9  \n",
              "8955                       304.45   7.2  \n",
              "8956                       281.26   8.9  "
            ],
            "text/html": [
              "\n",
              "  <div id=\"df-fe58eadf-1c0d-411a-a809-9e9ffac81dff\">\n",
              "    <div class=\"colab-df-container\">\n",
              "      <div>\n",
              "<style scoped>\n",
              "    .dataframe tbody tr th:only-of-type {\n",
              "        vertical-align: middle;\n",
              "    }\n",
              "\n",
              "    .dataframe tbody tr th {\n",
              "        vertical-align: top;\n",
              "    }\n",
              "\n",
              "    .dataframe thead th {\n",
              "        text-align: right;\n",
              "    }\n",
              "</style>\n",
              "<table border=\"1\" class=\"dataframe\">\n",
              "  <thead>\n",
              "    <tr style=\"text-align: right;\">\n",
              "      <th></th>\n",
              "      <th>ano</th>\n",
              "      <th>sigla_uf</th>\n",
              "      <th>taxa_aprovacao</th>\n",
              "      <th>nota_saeb_matematica</th>\n",
              "      <th>nota_saeb_lingua_portuguesa</th>\n",
              "      <th>ideb</th>\n",
              "    </tr>\n",
              "  </thead>\n",
              "  <tbody>\n",
              "    <tr>\n",
              "      <th>8947</th>\n",
              "      <td>2019</td>\n",
              "      <td>AC</td>\n",
              "      <td>98.2</td>\n",
              "      <td>288.92</td>\n",
              "      <td>263.10</td>\n",
              "      <td>8.1</td>\n",
              "    </tr>\n",
              "    <tr>\n",
              "      <th>8948</th>\n",
              "      <td>2019</td>\n",
              "      <td>AC</td>\n",
              "      <td>96.5</td>\n",
              "      <td>254.78</td>\n",
              "      <td>231.63</td>\n",
              "      <td>6.8</td>\n",
              "    </tr>\n",
              "    <tr>\n",
              "      <th>8949</th>\n",
              "      <td>2019</td>\n",
              "      <td>AC</td>\n",
              "      <td>97.7</td>\n",
              "      <td>246.47</td>\n",
              "      <td>228.63</td>\n",
              "      <td>6.7</td>\n",
              "    </tr>\n",
              "    <tr>\n",
              "      <th>8950</th>\n",
              "      <td>2019</td>\n",
              "      <td>AC</td>\n",
              "      <td>97.6</td>\n",
              "      <td>256.67</td>\n",
              "      <td>231.75</td>\n",
              "      <td>6.9</td>\n",
              "    </tr>\n",
              "    <tr>\n",
              "      <th>8951</th>\n",
              "      <td>2019</td>\n",
              "      <td>AL</td>\n",
              "      <td>100.0</td>\n",
              "      <td>261.32</td>\n",
              "      <td>223.47</td>\n",
              "      <td>7.0</td>\n",
              "    </tr>\n",
              "    <tr>\n",
              "      <th>8952</th>\n",
              "      <td>2019</td>\n",
              "      <td>AL</td>\n",
              "      <td>100.0</td>\n",
              "      <td>261.32</td>\n",
              "      <td>223.47</td>\n",
              "      <td>7.0</td>\n",
              "    </tr>\n",
              "    <tr>\n",
              "      <th>8953</th>\n",
              "      <td>2019</td>\n",
              "      <td>AL</td>\n",
              "      <td>97.9</td>\n",
              "      <td>338.92</td>\n",
              "      <td>304.45</td>\n",
              "      <td>7.2</td>\n",
              "    </tr>\n",
              "    <tr>\n",
              "      <th>8954</th>\n",
              "      <td>2019</td>\n",
              "      <td>AL</td>\n",
              "      <td>99.6</td>\n",
              "      <td>306.95</td>\n",
              "      <td>281.26</td>\n",
              "      <td>8.9</td>\n",
              "    </tr>\n",
              "    <tr>\n",
              "      <th>8955</th>\n",
              "      <td>2019</td>\n",
              "      <td>AL</td>\n",
              "      <td>97.9</td>\n",
              "      <td>338.92</td>\n",
              "      <td>304.45</td>\n",
              "      <td>7.2</td>\n",
              "    </tr>\n",
              "    <tr>\n",
              "      <th>8956</th>\n",
              "      <td>2019</td>\n",
              "      <td>AL</td>\n",
              "      <td>99.6</td>\n",
              "      <td>306.95</td>\n",
              "      <td>281.26</td>\n",
              "      <td>8.9</td>\n",
              "    </tr>\n",
              "  </tbody>\n",
              "</table>\n",
              "</div>\n",
              "      <button class=\"colab-df-convert\" onclick=\"convertToInteractive('df-fe58eadf-1c0d-411a-a809-9e9ffac81dff')\"\n",
              "              title=\"Convert this dataframe to an interactive table.\"\n",
              "              style=\"display:none;\">\n",
              "        \n",
              "  <svg xmlns=\"http://www.w3.org/2000/svg\" height=\"24px\"viewBox=\"0 0 24 24\"\n",
              "       width=\"24px\">\n",
              "    <path d=\"M0 0h24v24H0V0z\" fill=\"none\"/>\n",
              "    <path d=\"M18.56 5.44l.94 2.06.94-2.06 2.06-.94-2.06-.94-.94-2.06-.94 2.06-2.06.94zm-11 1L8.5 8.5l.94-2.06 2.06-.94-2.06-.94L8.5 2.5l-.94 2.06-2.06.94zm10 10l.94 2.06.94-2.06 2.06-.94-2.06-.94-.94-2.06-.94 2.06-2.06.94z\"/><path d=\"M17.41 7.96l-1.37-1.37c-.4-.4-.92-.59-1.43-.59-.52 0-1.04.2-1.43.59L10.3 9.45l-7.72 7.72c-.78.78-.78 2.05 0 2.83L4 21.41c.39.39.9.59 1.41.59.51 0 1.02-.2 1.41-.59l7.78-7.78 2.81-2.81c.8-.78.8-2.07 0-2.86zM5.41 20L4 18.59l7.72-7.72 1.47 1.35L5.41 20z\"/>\n",
              "  </svg>\n",
              "      </button>\n",
              "      \n",
              "  <style>\n",
              "    .colab-df-container {\n",
              "      display:flex;\n",
              "      flex-wrap:wrap;\n",
              "      gap: 12px;\n",
              "    }\n",
              "\n",
              "    .colab-df-convert {\n",
              "      background-color: #E8F0FE;\n",
              "      border: none;\n",
              "      border-radius: 50%;\n",
              "      cursor: pointer;\n",
              "      display: none;\n",
              "      fill: #1967D2;\n",
              "      height: 32px;\n",
              "      padding: 0 0 0 0;\n",
              "      width: 32px;\n",
              "    }\n",
              "\n",
              "    .colab-df-convert:hover {\n",
              "      background-color: #E2EBFA;\n",
              "      box-shadow: 0px 1px 2px rgba(60, 64, 67, 0.3), 0px 1px 3px 1px rgba(60, 64, 67, 0.15);\n",
              "      fill: #174EA6;\n",
              "    }\n",
              "\n",
              "    [theme=dark] .colab-df-convert {\n",
              "      background-color: #3B4455;\n",
              "      fill: #D2E3FC;\n",
              "    }\n",
              "\n",
              "    [theme=dark] .colab-df-convert:hover {\n",
              "      background-color: #434B5C;\n",
              "      box-shadow: 0px 1px 3px 1px rgba(0, 0, 0, 0.15);\n",
              "      filter: drop-shadow(0px 1px 2px rgba(0, 0, 0, 0.3));\n",
              "      fill: #FFFFFF;\n",
              "    }\n",
              "  </style>\n",
              "\n",
              "      <script>\n",
              "        const buttonEl =\n",
              "          document.querySelector('#df-fe58eadf-1c0d-411a-a809-9e9ffac81dff button.colab-df-convert');\n",
              "        buttonEl.style.display =\n",
              "          google.colab.kernel.accessAllowed ? 'block' : 'none';\n",
              "\n",
              "        async function convertToInteractive(key) {\n",
              "          const element = document.querySelector('#df-fe58eadf-1c0d-411a-a809-9e9ffac81dff');\n",
              "          const dataTable =\n",
              "            await google.colab.kernel.invokeFunction('convertToInteractive',\n",
              "                                                     [key], {});\n",
              "          if (!dataTable) return;\n",
              "\n",
              "          const docLinkHtml = 'Like what you see? Visit the ' +\n",
              "            '<a target=\"_blank\" href=https://colab.research.google.com/notebooks/data_table.ipynb>data table notebook</a>'\n",
              "            + ' to learn more about interactive tables.';\n",
              "          element.innerHTML = '';\n",
              "          dataTable['output_type'] = 'display_data';\n",
              "          await google.colab.output.renderOutput(dataTable, element);\n",
              "          const docLink = document.createElement('div');\n",
              "          docLink.innerHTML = docLinkHtml;\n",
              "          element.appendChild(docLink);\n",
              "        }\n",
              "      </script>\n",
              "    </div>\n",
              "  </div>\n",
              "  "
            ]
          },
          "metadata": {},
          "execution_count": 18
        }
      ]
    },
    {
      "cell_type": "code",
      "source": [
        "df_2019.info()"
      ],
      "metadata": {
        "colab": {
          "base_uri": "https://localhost:8080/"
        },
        "id": "ootBf2ttqX4W",
        "outputId": "3df34afd-5779-47aa-f120-5d556c3ed74d"
      },
      "execution_count": null,
      "outputs": [
        {
          "output_type": "stream",
          "name": "stdout",
          "text": [
            "<class 'pandas.core.frame.DataFrame'>\n",
            "Int64Index: 40464 entries, 8947 to 294425\n",
            "Data columns (total 6 columns):\n",
            " #   Column                       Non-Null Count  Dtype  \n",
            "---  ------                       --------------  -----  \n",
            " 0   ano                          40464 non-null  int64  \n",
            " 1   sigla_uf                     40464 non-null  object \n",
            " 2   taxa_aprovacao               36744 non-null  float64\n",
            " 3   nota_saeb_matematica         33956 non-null  float64\n",
            " 4   nota_saeb_lingua_portuguesa  33956 non-null  float64\n",
            " 5   ideb                         33954 non-null  float64\n",
            "dtypes: float64(4), int64(1), object(1)\n",
            "memory usage: 2.2+ MB\n"
          ]
        }
      ]
    },
    {
      "cell_type": "code",
      "source": [
        "ideb_2019 = df_2019.groupby(by='sigla_uf').mean()\n",
        "ideb_2019 = ideb_2019.reset_index()\n",
        "ideb_2019.head(28)"
      ],
      "metadata": {
        "colab": {
          "base_uri": "https://localhost:8080/",
          "height": 896
        },
        "id": "kF5reSMxEtL2",
        "outputId": "28a0353b-3029-4d93-c993-32be371d82d2"
      },
      "execution_count": null,
      "outputs": [
        {
          "output_type": "execute_result",
          "data": {
            "text/plain": [
              "   sigla_uf     ano  taxa_aprovacao  nota_saeb_matematica  \\\n",
              "0        AC  2019.0       88.561184            245.253478   \n",
              "1        AL  2019.0       92.081591            237.883189   \n",
              "2        AM  2019.0       86.853550            223.121965   \n",
              "3        AP  2019.0       81.552252            217.216667   \n",
              "4        BA  2019.0       83.032948            233.942537   \n",
              "5        CE  2019.0       94.930585            259.397187   \n",
              "6        DF  2019.0       89.700000            256.365000   \n",
              "7        ES  2019.0       91.419721            265.574820   \n",
              "8        GO  2019.0       95.783982            257.356514   \n",
              "9        MA  2019.0       90.548944            225.296995   \n",
              "10       MG  2019.0       90.924843            256.624005   \n",
              "11       MS  2019.0       87.288296            247.440340   \n",
              "12       MT  2019.0       89.033267            239.720082   \n",
              "13       PA  2019.0       81.866093            224.131193   \n",
              "14       PB  2019.0       84.985982            238.299160   \n",
              "15       PE  2019.0       92.159247            247.770060   \n",
              "16       PI  2019.0       88.283689            239.853022   \n",
              "17       PR  2019.0       93.157586            263.138800   \n",
              "18       RJ  2019.0       86.118779            255.881607   \n",
              "19       RN  2019.0       81.787971            227.868373   \n",
              "20       RO  2019.0       91.645763            248.936758   \n",
              "21       RR  2019.0       87.035484            229.807361   \n",
              "22       RS  2019.0       88.237649            260.966337   \n",
              "23       SC  2019.0       89.667782            259.174860   \n",
              "24       SE  2019.0       80.687148            230.750829   \n",
              "25       SP  2019.0       96.260068            263.598144   \n",
              "26       TO  2019.0       90.455000            235.453047   \n",
              "\n",
              "    nota_saeb_lingua_portuguesa      ideb  \n",
              "0                    237.995942  4.671739  \n",
              "1                    231.412708  4.509295  \n",
              "2                    219.773218  4.032397  \n",
              "3                    215.831111  3.694444  \n",
              "4                    230.205596  4.034125  \n",
              "5                    254.290339  5.318929  \n",
              "6                    252.218333  4.900000  \n",
              "7                    255.552122  5.305036  \n",
              "8                    251.849397  5.357471  \n",
              "9                    223.669534  4.067158  \n",
              "10                   248.649221  5.096277  \n",
              "11                   240.999820  4.821600  \n",
              "12                   233.611841  4.708685  \n",
              "13                   221.644141  3.800239  \n",
              "14                   233.329475  4.211407  \n",
              "15                   240.499694  4.720936  \n",
              "16                   233.638533  4.361533  \n",
              "17                   254.573522  5.322486  \n",
              "18                   251.703344  4.689180  \n",
              "19                   222.960532  4.051177  \n",
              "20                   240.107758  4.890303  \n",
              "21                   226.552361  3.847222  \n",
              "22                   254.151809  5.222730  \n",
              "23                   250.534567  5.241834  \n",
              "24                   224.307726  3.874759  \n",
              "25                   254.955744  5.522421  \n",
              "26                   226.539142  4.486807  "
            ],
            "text/html": [
              "\n",
              "  <div id=\"df-b6fe02fd-7c5d-4b59-8e9a-ab70b1c5b4e6\">\n",
              "    <div class=\"colab-df-container\">\n",
              "      <div>\n",
              "<style scoped>\n",
              "    .dataframe tbody tr th:only-of-type {\n",
              "        vertical-align: middle;\n",
              "    }\n",
              "\n",
              "    .dataframe tbody tr th {\n",
              "        vertical-align: top;\n",
              "    }\n",
              "\n",
              "    .dataframe thead th {\n",
              "        text-align: right;\n",
              "    }\n",
              "</style>\n",
              "<table border=\"1\" class=\"dataframe\">\n",
              "  <thead>\n",
              "    <tr style=\"text-align: right;\">\n",
              "      <th></th>\n",
              "      <th>sigla_uf</th>\n",
              "      <th>ano</th>\n",
              "      <th>taxa_aprovacao</th>\n",
              "      <th>nota_saeb_matematica</th>\n",
              "      <th>nota_saeb_lingua_portuguesa</th>\n",
              "      <th>ideb</th>\n",
              "    </tr>\n",
              "  </thead>\n",
              "  <tbody>\n",
              "    <tr>\n",
              "      <th>0</th>\n",
              "      <td>AC</td>\n",
              "      <td>2019.0</td>\n",
              "      <td>88.561184</td>\n",
              "      <td>245.253478</td>\n",
              "      <td>237.995942</td>\n",
              "      <td>4.671739</td>\n",
              "    </tr>\n",
              "    <tr>\n",
              "      <th>1</th>\n",
              "      <td>AL</td>\n",
              "      <td>2019.0</td>\n",
              "      <td>92.081591</td>\n",
              "      <td>237.883189</td>\n",
              "      <td>231.412708</td>\n",
              "      <td>4.509295</td>\n",
              "    </tr>\n",
              "    <tr>\n",
              "      <th>2</th>\n",
              "      <td>AM</td>\n",
              "      <td>2019.0</td>\n",
              "      <td>86.853550</td>\n",
              "      <td>223.121965</td>\n",
              "      <td>219.773218</td>\n",
              "      <td>4.032397</td>\n",
              "    </tr>\n",
              "    <tr>\n",
              "      <th>3</th>\n",
              "      <td>AP</td>\n",
              "      <td>2019.0</td>\n",
              "      <td>81.552252</td>\n",
              "      <td>217.216667</td>\n",
              "      <td>215.831111</td>\n",
              "      <td>3.694444</td>\n",
              "    </tr>\n",
              "    <tr>\n",
              "      <th>4</th>\n",
              "      <td>BA</td>\n",
              "      <td>2019.0</td>\n",
              "      <td>83.032948</td>\n",
              "      <td>233.942537</td>\n",
              "      <td>230.205596</td>\n",
              "      <td>4.034125</td>\n",
              "    </tr>\n",
              "    <tr>\n",
              "      <th>5</th>\n",
              "      <td>CE</td>\n",
              "      <td>2019.0</td>\n",
              "      <td>94.930585</td>\n",
              "      <td>259.397187</td>\n",
              "      <td>254.290339</td>\n",
              "      <td>5.318929</td>\n",
              "    </tr>\n",
              "    <tr>\n",
              "      <th>6</th>\n",
              "      <td>DF</td>\n",
              "      <td>2019.0</td>\n",
              "      <td>89.700000</td>\n",
              "      <td>256.365000</td>\n",
              "      <td>252.218333</td>\n",
              "      <td>4.900000</td>\n",
              "    </tr>\n",
              "    <tr>\n",
              "      <th>7</th>\n",
              "      <td>ES</td>\n",
              "      <td>2019.0</td>\n",
              "      <td>91.419721</td>\n",
              "      <td>265.574820</td>\n",
              "      <td>255.552122</td>\n",
              "      <td>5.305036</td>\n",
              "    </tr>\n",
              "    <tr>\n",
              "      <th>8</th>\n",
              "      <td>GO</td>\n",
              "      <td>2019.0</td>\n",
              "      <td>95.783982</td>\n",
              "      <td>257.356514</td>\n",
              "      <td>251.849397</td>\n",
              "      <td>5.357471</td>\n",
              "    </tr>\n",
              "    <tr>\n",
              "      <th>9</th>\n",
              "      <td>MA</td>\n",
              "      <td>2019.0</td>\n",
              "      <td>90.548944</td>\n",
              "      <td>225.296995</td>\n",
              "      <td>223.669534</td>\n",
              "      <td>4.067158</td>\n",
              "    </tr>\n",
              "    <tr>\n",
              "      <th>10</th>\n",
              "      <td>MG</td>\n",
              "      <td>2019.0</td>\n",
              "      <td>90.924843</td>\n",
              "      <td>256.624005</td>\n",
              "      <td>248.649221</td>\n",
              "      <td>5.096277</td>\n",
              "    </tr>\n",
              "    <tr>\n",
              "      <th>11</th>\n",
              "      <td>MS</td>\n",
              "      <td>2019.0</td>\n",
              "      <td>87.288296</td>\n",
              "      <td>247.440340</td>\n",
              "      <td>240.999820</td>\n",
              "      <td>4.821600</td>\n",
              "    </tr>\n",
              "    <tr>\n",
              "      <th>12</th>\n",
              "      <td>MT</td>\n",
              "      <td>2019.0</td>\n",
              "      <td>89.033267</td>\n",
              "      <td>239.720082</td>\n",
              "      <td>233.611841</td>\n",
              "      <td>4.708685</td>\n",
              "    </tr>\n",
              "    <tr>\n",
              "      <th>13</th>\n",
              "      <td>PA</td>\n",
              "      <td>2019.0</td>\n",
              "      <td>81.866093</td>\n",
              "      <td>224.131193</td>\n",
              "      <td>221.644141</td>\n",
              "      <td>3.800239</td>\n",
              "    </tr>\n",
              "    <tr>\n",
              "      <th>14</th>\n",
              "      <td>PB</td>\n",
              "      <td>2019.0</td>\n",
              "      <td>84.985982</td>\n",
              "      <td>238.299160</td>\n",
              "      <td>233.329475</td>\n",
              "      <td>4.211407</td>\n",
              "    </tr>\n",
              "    <tr>\n",
              "      <th>15</th>\n",
              "      <td>PE</td>\n",
              "      <td>2019.0</td>\n",
              "      <td>92.159247</td>\n",
              "      <td>247.770060</td>\n",
              "      <td>240.499694</td>\n",
              "      <td>4.720936</td>\n",
              "    </tr>\n",
              "    <tr>\n",
              "      <th>16</th>\n",
              "      <td>PI</td>\n",
              "      <td>2019.0</td>\n",
              "      <td>88.283689</td>\n",
              "      <td>239.853022</td>\n",
              "      <td>233.638533</td>\n",
              "      <td>4.361533</td>\n",
              "    </tr>\n",
              "    <tr>\n",
              "      <th>17</th>\n",
              "      <td>PR</td>\n",
              "      <td>2019.0</td>\n",
              "      <td>93.157586</td>\n",
              "      <td>263.138800</td>\n",
              "      <td>254.573522</td>\n",
              "      <td>5.322486</td>\n",
              "    </tr>\n",
              "    <tr>\n",
              "      <th>18</th>\n",
              "      <td>RJ</td>\n",
              "      <td>2019.0</td>\n",
              "      <td>86.118779</td>\n",
              "      <td>255.881607</td>\n",
              "      <td>251.703344</td>\n",
              "      <td>4.689180</td>\n",
              "    </tr>\n",
              "    <tr>\n",
              "      <th>19</th>\n",
              "      <td>RN</td>\n",
              "      <td>2019.0</td>\n",
              "      <td>81.787971</td>\n",
              "      <td>227.868373</td>\n",
              "      <td>222.960532</td>\n",
              "      <td>4.051177</td>\n",
              "    </tr>\n",
              "    <tr>\n",
              "      <th>20</th>\n",
              "      <td>RO</td>\n",
              "      <td>2019.0</td>\n",
              "      <td>91.645763</td>\n",
              "      <td>248.936758</td>\n",
              "      <td>240.107758</td>\n",
              "      <td>4.890303</td>\n",
              "    </tr>\n",
              "    <tr>\n",
              "      <th>21</th>\n",
              "      <td>RR</td>\n",
              "      <td>2019.0</td>\n",
              "      <td>87.035484</td>\n",
              "      <td>229.807361</td>\n",
              "      <td>226.552361</td>\n",
              "      <td>3.847222</td>\n",
              "    </tr>\n",
              "    <tr>\n",
              "      <th>22</th>\n",
              "      <td>RS</td>\n",
              "      <td>2019.0</td>\n",
              "      <td>88.237649</td>\n",
              "      <td>260.966337</td>\n",
              "      <td>254.151809</td>\n",
              "      <td>5.222730</td>\n",
              "    </tr>\n",
              "    <tr>\n",
              "      <th>23</th>\n",
              "      <td>SC</td>\n",
              "      <td>2019.0</td>\n",
              "      <td>89.667782</td>\n",
              "      <td>259.174860</td>\n",
              "      <td>250.534567</td>\n",
              "      <td>5.241834</td>\n",
              "    </tr>\n",
              "    <tr>\n",
              "      <th>24</th>\n",
              "      <td>SE</td>\n",
              "      <td>2019.0</td>\n",
              "      <td>80.687148</td>\n",
              "      <td>230.750829</td>\n",
              "      <td>224.307726</td>\n",
              "      <td>3.874759</td>\n",
              "    </tr>\n",
              "    <tr>\n",
              "      <th>25</th>\n",
              "      <td>SP</td>\n",
              "      <td>2019.0</td>\n",
              "      <td>96.260068</td>\n",
              "      <td>263.598144</td>\n",
              "      <td>254.955744</td>\n",
              "      <td>5.522421</td>\n",
              "    </tr>\n",
              "    <tr>\n",
              "      <th>26</th>\n",
              "      <td>TO</td>\n",
              "      <td>2019.0</td>\n",
              "      <td>90.455000</td>\n",
              "      <td>235.453047</td>\n",
              "      <td>226.539142</td>\n",
              "      <td>4.486807</td>\n",
              "    </tr>\n",
              "  </tbody>\n",
              "</table>\n",
              "</div>\n",
              "      <button class=\"colab-df-convert\" onclick=\"convertToInteractive('df-b6fe02fd-7c5d-4b59-8e9a-ab70b1c5b4e6')\"\n",
              "              title=\"Convert this dataframe to an interactive table.\"\n",
              "              style=\"display:none;\">\n",
              "        \n",
              "  <svg xmlns=\"http://www.w3.org/2000/svg\" height=\"24px\"viewBox=\"0 0 24 24\"\n",
              "       width=\"24px\">\n",
              "    <path d=\"M0 0h24v24H0V0z\" fill=\"none\"/>\n",
              "    <path d=\"M18.56 5.44l.94 2.06.94-2.06 2.06-.94-2.06-.94-.94-2.06-.94 2.06-2.06.94zm-11 1L8.5 8.5l.94-2.06 2.06-.94-2.06-.94L8.5 2.5l-.94 2.06-2.06.94zm10 10l.94 2.06.94-2.06 2.06-.94-2.06-.94-.94-2.06-.94 2.06-2.06.94z\"/><path d=\"M17.41 7.96l-1.37-1.37c-.4-.4-.92-.59-1.43-.59-.52 0-1.04.2-1.43.59L10.3 9.45l-7.72 7.72c-.78.78-.78 2.05 0 2.83L4 21.41c.39.39.9.59 1.41.59.51 0 1.02-.2 1.41-.59l7.78-7.78 2.81-2.81c.8-.78.8-2.07 0-2.86zM5.41 20L4 18.59l7.72-7.72 1.47 1.35L5.41 20z\"/>\n",
              "  </svg>\n",
              "      </button>\n",
              "      \n",
              "  <style>\n",
              "    .colab-df-container {\n",
              "      display:flex;\n",
              "      flex-wrap:wrap;\n",
              "      gap: 12px;\n",
              "    }\n",
              "\n",
              "    .colab-df-convert {\n",
              "      background-color: #E8F0FE;\n",
              "      border: none;\n",
              "      border-radius: 50%;\n",
              "      cursor: pointer;\n",
              "      display: none;\n",
              "      fill: #1967D2;\n",
              "      height: 32px;\n",
              "      padding: 0 0 0 0;\n",
              "      width: 32px;\n",
              "    }\n",
              "\n",
              "    .colab-df-convert:hover {\n",
              "      background-color: #E2EBFA;\n",
              "      box-shadow: 0px 1px 2px rgba(60, 64, 67, 0.3), 0px 1px 3px 1px rgba(60, 64, 67, 0.15);\n",
              "      fill: #174EA6;\n",
              "    }\n",
              "\n",
              "    [theme=dark] .colab-df-convert {\n",
              "      background-color: #3B4455;\n",
              "      fill: #D2E3FC;\n",
              "    }\n",
              "\n",
              "    [theme=dark] .colab-df-convert:hover {\n",
              "      background-color: #434B5C;\n",
              "      box-shadow: 0px 1px 3px 1px rgba(0, 0, 0, 0.15);\n",
              "      filter: drop-shadow(0px 1px 2px rgba(0, 0, 0, 0.3));\n",
              "      fill: #FFFFFF;\n",
              "    }\n",
              "  </style>\n",
              "\n",
              "      <script>\n",
              "        const buttonEl =\n",
              "          document.querySelector('#df-b6fe02fd-7c5d-4b59-8e9a-ab70b1c5b4e6 button.colab-df-convert');\n",
              "        buttonEl.style.display =\n",
              "          google.colab.kernel.accessAllowed ? 'block' : 'none';\n",
              "\n",
              "        async function convertToInteractive(key) {\n",
              "          const element = document.querySelector('#df-b6fe02fd-7c5d-4b59-8e9a-ab70b1c5b4e6');\n",
              "          const dataTable =\n",
              "            await google.colab.kernel.invokeFunction('convertToInteractive',\n",
              "                                                     [key], {});\n",
              "          if (!dataTable) return;\n",
              "\n",
              "          const docLinkHtml = 'Like what you see? Visit the ' +\n",
              "            '<a target=\"_blank\" href=https://colab.research.google.com/notebooks/data_table.ipynb>data table notebook</a>'\n",
              "            + ' to learn more about interactive tables.';\n",
              "          element.innerHTML = '';\n",
              "          dataTable['output_type'] = 'display_data';\n",
              "          await google.colab.output.renderOutput(dataTable, element);\n",
              "          const docLink = document.createElement('div');\n",
              "          docLink.innerHTML = docLinkHtml;\n",
              "          element.appendChild(docLink);\n",
              "        }\n",
              "      </script>\n",
              "    </div>\n",
              "  </div>\n",
              "  "
            ]
          },
          "metadata": {},
          "execution_count": 23
        }
      ]
    },
    {
      "cell_type": "code",
      "source": [],
      "metadata": {
        "id": "wyYOocasEtaE"
      },
      "execution_count": null,
      "outputs": []
    },
    {
      "cell_type": "markdown",
      "source": [
        "### Atividade 3: Padronize os dados."
      ],
      "metadata": {
        "id": "DIZFtzqlOgGL"
      }
    },
    {
      "cell_type": "code",
      "source": [
        "# seu código\n",
        "from sklearn.preprocessing import StandardScaler\n",
        "\n",
        "scaler = StandardScaler()\n",
        "\n",
        "ideb_2019_scaled = ideb_2019.copy()\n",
        "\n",
        "ideb_2019_scaled.drop('sigla_uf', inplace=True, axis=1)\n",
        "\n",
        "ideb_2019_scaled[ideb_2019_scaled.columns] = scaler.fit_transform(ideb_2019_scaled)\n",
        "\n",
        "ideb_2019_scaled['sigla_uf'] = ideb_2019['sigla_uf']\n",
        "\n",
        "ideb_2019_scaled.head(27)\n"
      ],
      "metadata": {
        "id": "ipeYn2F_WGOo",
        "colab": {
          "base_uri": "https://localhost:8080/",
          "height": 896
        },
        "outputId": "2b46dd86-8e91-4587-8570-c74bc29c003f"
      },
      "execution_count": null,
      "outputs": [
        {
          "output_type": "execute_result",
          "data": {
            "text/plain": [
              "    ano  taxa_aprovacao  nota_saeb_matematica  nota_saeb_lingua_portuguesa  \\\n",
              "0   0.0       -0.025280              0.080727                    -0.016434   \n",
              "1   0.0        0.801179             -0.437122                    -0.531887   \n",
              "2   0.0       -0.426168             -1.474271                    -1.443233   \n",
              "3   0.0       -1.670713             -1.889188                    -1.751891   \n",
              "4   0.0       -1.323101             -0.713999                    -0.626401   \n",
              "5   0.0        1.470015              1.074488                     1.259381   \n",
              "6   0.0        0.242071              0.861442                     1.097147   \n",
              "7   0.0        0.645797              1.508539                     1.358175   \n",
              "8   0.0        1.670361              0.931107                     1.068260   \n",
              "9   0.0        0.441371             -1.321450                    -1.138160   \n",
              "10  0.0        0.529618              0.879640                     0.817694   \n",
              "11  0.0       -0.324106              0.234380                     0.218763   \n",
              "12  0.0        0.085547             -0.308059                    -0.359699   \n",
              "13  0.0       -1.597035             -1.403361                    -1.296744   \n",
              "14  0.0       -0.864602             -0.407895                    -0.381808   \n",
              "15  0.0        0.819410              0.257546                     0.179604   \n",
              "16  0.0       -0.090425             -0.298718                    -0.357609   \n",
              "17  0.0        1.053782              1.337381                     1.281553   \n",
              "18  0.0       -0.598664              0.827478                     1.056825   \n",
              "19  0.0       -1.615375             -1.140780                    -1.193673   \n",
              "20  0.0        0.698863              0.339521                     0.148916   \n",
              "21  0.0       -0.383457             -1.004544                    -0.912441   \n",
              "22  0.0       -0.101234              1.184740                     1.248534   \n",
              "23  0.0        0.234508              1.058867                     0.965312   \n",
              "24  0.0       -1.873807             -0.938254                    -1.088191   \n",
              "25  0.0        1.782128              1.369655                     1.311480   \n",
              "26  0.0        0.419317             -0.607868                    -0.913476   \n",
              "\n",
              "        ideb sigla_uf  \n",
              "0   0.092154       AC  \n",
              "1  -0.201424       AL  \n",
              "2  -1.063297       AM  \n",
              "3  -1.674063       AP  \n",
              "4  -1.060175       BA  \n",
              "5   1.261788       CE  \n",
              "6   0.504679       DF  \n",
              "7   1.236680       ES  \n",
              "8   1.331443       GO  \n",
              "9  -1.000475       MA  \n",
              "10  0.859401       MG  \n",
              "11  0.362990       MS  \n",
              "12  0.158925       MT  \n",
              "13 -1.482866       PA  \n",
              "14 -0.739782       PB  \n",
              "15  0.181065       PE  \n",
              "16 -0.468467       PI  \n",
              "17  1.268217       PR  \n",
              "18  0.123675       RJ  \n",
              "19 -1.029357       RN  \n",
              "20  0.487154       RO  \n",
              "21 -1.397955       RR  \n",
              "22  1.087934       RS  \n",
              "23  1.122458       SC  \n",
              "24 -1.348189       SE  \n",
              "25  1.629550       SP  \n",
              "26 -0.242064       TO  "
            ],
            "text/html": [
              "\n",
              "  <div id=\"df-50c92457-7dff-4c42-a662-12d9f810f7f2\">\n",
              "    <div class=\"colab-df-container\">\n",
              "      <div>\n",
              "<style scoped>\n",
              "    .dataframe tbody tr th:only-of-type {\n",
              "        vertical-align: middle;\n",
              "    }\n",
              "\n",
              "    .dataframe tbody tr th {\n",
              "        vertical-align: top;\n",
              "    }\n",
              "\n",
              "    .dataframe thead th {\n",
              "        text-align: right;\n",
              "    }\n",
              "</style>\n",
              "<table border=\"1\" class=\"dataframe\">\n",
              "  <thead>\n",
              "    <tr style=\"text-align: right;\">\n",
              "      <th></th>\n",
              "      <th>ano</th>\n",
              "      <th>taxa_aprovacao</th>\n",
              "      <th>nota_saeb_matematica</th>\n",
              "      <th>nota_saeb_lingua_portuguesa</th>\n",
              "      <th>ideb</th>\n",
              "      <th>sigla_uf</th>\n",
              "    </tr>\n",
              "  </thead>\n",
              "  <tbody>\n",
              "    <tr>\n",
              "      <th>0</th>\n",
              "      <td>0.0</td>\n",
              "      <td>-0.025280</td>\n",
              "      <td>0.080727</td>\n",
              "      <td>-0.016434</td>\n",
              "      <td>0.092154</td>\n",
              "      <td>AC</td>\n",
              "    </tr>\n",
              "    <tr>\n",
              "      <th>1</th>\n",
              "      <td>0.0</td>\n",
              "      <td>0.801179</td>\n",
              "      <td>-0.437122</td>\n",
              "      <td>-0.531887</td>\n",
              "      <td>-0.201424</td>\n",
              "      <td>AL</td>\n",
              "    </tr>\n",
              "    <tr>\n",
              "      <th>2</th>\n",
              "      <td>0.0</td>\n",
              "      <td>-0.426168</td>\n",
              "      <td>-1.474271</td>\n",
              "      <td>-1.443233</td>\n",
              "      <td>-1.063297</td>\n",
              "      <td>AM</td>\n",
              "    </tr>\n",
              "    <tr>\n",
              "      <th>3</th>\n",
              "      <td>0.0</td>\n",
              "      <td>-1.670713</td>\n",
              "      <td>-1.889188</td>\n",
              "      <td>-1.751891</td>\n",
              "      <td>-1.674063</td>\n",
              "      <td>AP</td>\n",
              "    </tr>\n",
              "    <tr>\n",
              "      <th>4</th>\n",
              "      <td>0.0</td>\n",
              "      <td>-1.323101</td>\n",
              "      <td>-0.713999</td>\n",
              "      <td>-0.626401</td>\n",
              "      <td>-1.060175</td>\n",
              "      <td>BA</td>\n",
              "    </tr>\n",
              "    <tr>\n",
              "      <th>5</th>\n",
              "      <td>0.0</td>\n",
              "      <td>1.470015</td>\n",
              "      <td>1.074488</td>\n",
              "      <td>1.259381</td>\n",
              "      <td>1.261788</td>\n",
              "      <td>CE</td>\n",
              "    </tr>\n",
              "    <tr>\n",
              "      <th>6</th>\n",
              "      <td>0.0</td>\n",
              "      <td>0.242071</td>\n",
              "      <td>0.861442</td>\n",
              "      <td>1.097147</td>\n",
              "      <td>0.504679</td>\n",
              "      <td>DF</td>\n",
              "    </tr>\n",
              "    <tr>\n",
              "      <th>7</th>\n",
              "      <td>0.0</td>\n",
              "      <td>0.645797</td>\n",
              "      <td>1.508539</td>\n",
              "      <td>1.358175</td>\n",
              "      <td>1.236680</td>\n",
              "      <td>ES</td>\n",
              "    </tr>\n",
              "    <tr>\n",
              "      <th>8</th>\n",
              "      <td>0.0</td>\n",
              "      <td>1.670361</td>\n",
              "      <td>0.931107</td>\n",
              "      <td>1.068260</td>\n",
              "      <td>1.331443</td>\n",
              "      <td>GO</td>\n",
              "    </tr>\n",
              "    <tr>\n",
              "      <th>9</th>\n",
              "      <td>0.0</td>\n",
              "      <td>0.441371</td>\n",
              "      <td>-1.321450</td>\n",
              "      <td>-1.138160</td>\n",
              "      <td>-1.000475</td>\n",
              "      <td>MA</td>\n",
              "    </tr>\n",
              "    <tr>\n",
              "      <th>10</th>\n",
              "      <td>0.0</td>\n",
              "      <td>0.529618</td>\n",
              "      <td>0.879640</td>\n",
              "      <td>0.817694</td>\n",
              "      <td>0.859401</td>\n",
              "      <td>MG</td>\n",
              "    </tr>\n",
              "    <tr>\n",
              "      <th>11</th>\n",
              "      <td>0.0</td>\n",
              "      <td>-0.324106</td>\n",
              "      <td>0.234380</td>\n",
              "      <td>0.218763</td>\n",
              "      <td>0.362990</td>\n",
              "      <td>MS</td>\n",
              "    </tr>\n",
              "    <tr>\n",
              "      <th>12</th>\n",
              "      <td>0.0</td>\n",
              "      <td>0.085547</td>\n",
              "      <td>-0.308059</td>\n",
              "      <td>-0.359699</td>\n",
              "      <td>0.158925</td>\n",
              "      <td>MT</td>\n",
              "    </tr>\n",
              "    <tr>\n",
              "      <th>13</th>\n",
              "      <td>0.0</td>\n",
              "      <td>-1.597035</td>\n",
              "      <td>-1.403361</td>\n",
              "      <td>-1.296744</td>\n",
              "      <td>-1.482866</td>\n",
              "      <td>PA</td>\n",
              "    </tr>\n",
              "    <tr>\n",
              "      <th>14</th>\n",
              "      <td>0.0</td>\n",
              "      <td>-0.864602</td>\n",
              "      <td>-0.407895</td>\n",
              "      <td>-0.381808</td>\n",
              "      <td>-0.739782</td>\n",
              "      <td>PB</td>\n",
              "    </tr>\n",
              "    <tr>\n",
              "      <th>15</th>\n",
              "      <td>0.0</td>\n",
              "      <td>0.819410</td>\n",
              "      <td>0.257546</td>\n",
              "      <td>0.179604</td>\n",
              "      <td>0.181065</td>\n",
              "      <td>PE</td>\n",
              "    </tr>\n",
              "    <tr>\n",
              "      <th>16</th>\n",
              "      <td>0.0</td>\n",
              "      <td>-0.090425</td>\n",
              "      <td>-0.298718</td>\n",
              "      <td>-0.357609</td>\n",
              "      <td>-0.468467</td>\n",
              "      <td>PI</td>\n",
              "    </tr>\n",
              "    <tr>\n",
              "      <th>17</th>\n",
              "      <td>0.0</td>\n",
              "      <td>1.053782</td>\n",
              "      <td>1.337381</td>\n",
              "      <td>1.281553</td>\n",
              "      <td>1.268217</td>\n",
              "      <td>PR</td>\n",
              "    </tr>\n",
              "    <tr>\n",
              "      <th>18</th>\n",
              "      <td>0.0</td>\n",
              "      <td>-0.598664</td>\n",
              "      <td>0.827478</td>\n",
              "      <td>1.056825</td>\n",
              "      <td>0.123675</td>\n",
              "      <td>RJ</td>\n",
              "    </tr>\n",
              "    <tr>\n",
              "      <th>19</th>\n",
              "      <td>0.0</td>\n",
              "      <td>-1.615375</td>\n",
              "      <td>-1.140780</td>\n",
              "      <td>-1.193673</td>\n",
              "      <td>-1.029357</td>\n",
              "      <td>RN</td>\n",
              "    </tr>\n",
              "    <tr>\n",
              "      <th>20</th>\n",
              "      <td>0.0</td>\n",
              "      <td>0.698863</td>\n",
              "      <td>0.339521</td>\n",
              "      <td>0.148916</td>\n",
              "      <td>0.487154</td>\n",
              "      <td>RO</td>\n",
              "    </tr>\n",
              "    <tr>\n",
              "      <th>21</th>\n",
              "      <td>0.0</td>\n",
              "      <td>-0.383457</td>\n",
              "      <td>-1.004544</td>\n",
              "      <td>-0.912441</td>\n",
              "      <td>-1.397955</td>\n",
              "      <td>RR</td>\n",
              "    </tr>\n",
              "    <tr>\n",
              "      <th>22</th>\n",
              "      <td>0.0</td>\n",
              "      <td>-0.101234</td>\n",
              "      <td>1.184740</td>\n",
              "      <td>1.248534</td>\n",
              "      <td>1.087934</td>\n",
              "      <td>RS</td>\n",
              "    </tr>\n",
              "    <tr>\n",
              "      <th>23</th>\n",
              "      <td>0.0</td>\n",
              "      <td>0.234508</td>\n",
              "      <td>1.058867</td>\n",
              "      <td>0.965312</td>\n",
              "      <td>1.122458</td>\n",
              "      <td>SC</td>\n",
              "    </tr>\n",
              "    <tr>\n",
              "      <th>24</th>\n",
              "      <td>0.0</td>\n",
              "      <td>-1.873807</td>\n",
              "      <td>-0.938254</td>\n",
              "      <td>-1.088191</td>\n",
              "      <td>-1.348189</td>\n",
              "      <td>SE</td>\n",
              "    </tr>\n",
              "    <tr>\n",
              "      <th>25</th>\n",
              "      <td>0.0</td>\n",
              "      <td>1.782128</td>\n",
              "      <td>1.369655</td>\n",
              "      <td>1.311480</td>\n",
              "      <td>1.629550</td>\n",
              "      <td>SP</td>\n",
              "    </tr>\n",
              "    <tr>\n",
              "      <th>26</th>\n",
              "      <td>0.0</td>\n",
              "      <td>0.419317</td>\n",
              "      <td>-0.607868</td>\n",
              "      <td>-0.913476</td>\n",
              "      <td>-0.242064</td>\n",
              "      <td>TO</td>\n",
              "    </tr>\n",
              "  </tbody>\n",
              "</table>\n",
              "</div>\n",
              "      <button class=\"colab-df-convert\" onclick=\"convertToInteractive('df-50c92457-7dff-4c42-a662-12d9f810f7f2')\"\n",
              "              title=\"Convert this dataframe to an interactive table.\"\n",
              "              style=\"display:none;\">\n",
              "        \n",
              "  <svg xmlns=\"http://www.w3.org/2000/svg\" height=\"24px\"viewBox=\"0 0 24 24\"\n",
              "       width=\"24px\">\n",
              "    <path d=\"M0 0h24v24H0V0z\" fill=\"none\"/>\n",
              "    <path d=\"M18.56 5.44l.94 2.06.94-2.06 2.06-.94-2.06-.94-.94-2.06-.94 2.06-2.06.94zm-11 1L8.5 8.5l.94-2.06 2.06-.94-2.06-.94L8.5 2.5l-.94 2.06-2.06.94zm10 10l.94 2.06.94-2.06 2.06-.94-2.06-.94-.94-2.06-.94 2.06-2.06.94z\"/><path d=\"M17.41 7.96l-1.37-1.37c-.4-.4-.92-.59-1.43-.59-.52 0-1.04.2-1.43.59L10.3 9.45l-7.72 7.72c-.78.78-.78 2.05 0 2.83L4 21.41c.39.39.9.59 1.41.59.51 0 1.02-.2 1.41-.59l7.78-7.78 2.81-2.81c.8-.78.8-2.07 0-2.86zM5.41 20L4 18.59l7.72-7.72 1.47 1.35L5.41 20z\"/>\n",
              "  </svg>\n",
              "      </button>\n",
              "      \n",
              "  <style>\n",
              "    .colab-df-container {\n",
              "      display:flex;\n",
              "      flex-wrap:wrap;\n",
              "      gap: 12px;\n",
              "    }\n",
              "\n",
              "    .colab-df-convert {\n",
              "      background-color: #E8F0FE;\n",
              "      border: none;\n",
              "      border-radius: 50%;\n",
              "      cursor: pointer;\n",
              "      display: none;\n",
              "      fill: #1967D2;\n",
              "      height: 32px;\n",
              "      padding: 0 0 0 0;\n",
              "      width: 32px;\n",
              "    }\n",
              "\n",
              "    .colab-df-convert:hover {\n",
              "      background-color: #E2EBFA;\n",
              "      box-shadow: 0px 1px 2px rgba(60, 64, 67, 0.3), 0px 1px 3px 1px rgba(60, 64, 67, 0.15);\n",
              "      fill: #174EA6;\n",
              "    }\n",
              "\n",
              "    [theme=dark] .colab-df-convert {\n",
              "      background-color: #3B4455;\n",
              "      fill: #D2E3FC;\n",
              "    }\n",
              "\n",
              "    [theme=dark] .colab-df-convert:hover {\n",
              "      background-color: #434B5C;\n",
              "      box-shadow: 0px 1px 3px 1px rgba(0, 0, 0, 0.15);\n",
              "      filter: drop-shadow(0px 1px 2px rgba(0, 0, 0, 0.3));\n",
              "      fill: #FFFFFF;\n",
              "    }\n",
              "  </style>\n",
              "\n",
              "      <script>\n",
              "        const buttonEl =\n",
              "          document.querySelector('#df-50c92457-7dff-4c42-a662-12d9f810f7f2 button.colab-df-convert');\n",
              "        buttonEl.style.display =\n",
              "          google.colab.kernel.accessAllowed ? 'block' : 'none';\n",
              "\n",
              "        async function convertToInteractive(key) {\n",
              "          const element = document.querySelector('#df-50c92457-7dff-4c42-a662-12d9f810f7f2');\n",
              "          const dataTable =\n",
              "            await google.colab.kernel.invokeFunction('convertToInteractive',\n",
              "                                                     [key], {});\n",
              "          if (!dataTable) return;\n",
              "\n",
              "          const docLinkHtml = 'Like what you see? Visit the ' +\n",
              "            '<a target=\"_blank\" href=https://colab.research.google.com/notebooks/data_table.ipynb>data table notebook</a>'\n",
              "            + ' to learn more about interactive tables.';\n",
              "          element.innerHTML = '';\n",
              "          dataTable['output_type'] = 'display_data';\n",
              "          await google.colab.output.renderOutput(dataTable, element);\n",
              "          const docLink = document.createElement('div');\n",
              "          docLink.innerHTML = docLinkHtml;\n",
              "          element.appendChild(docLink);\n",
              "        }\n",
              "      </script>\n",
              "    </div>\n",
              "  </div>\n",
              "  "
            ]
          },
          "metadata": {},
          "execution_count": 24
        }
      ]
    },
    {
      "cell_type": "markdown",
      "source": [
        "### Atividade 4: Use o método do cotovelo para encontrar um valor adequado de k."
      ],
      "metadata": {
        "id": "83C6DDlCO3n9"
      }
    },
    {
      "cell_type": "code",
      "source": [
        "# seu código\n",
        "import seaborn as sb\n",
        "\n",
        "sb.set(style='white', font_scale=1.1, rc={'figure.figsize':(14,5)})\n"
      ],
      "metadata": {
        "id": "uMyX33odWKIE"
      },
      "execution_count": null,
      "outputs": []
    },
    {
      "cell_type": "code",
      "source": [
        "from sklearn.cluster import KMeans\n",
        "import matplotlib.pyplot as plt\n",
        "\n",
        "inercia = []\n",
        "k_min = 2\n",
        "k_max = 10\n",
        "\n",
        "for i in range(k_min,k_max+1):\n",
        "    kmeans = KMeans(n_clusters=i, random_state=42)\n",
        "    kmeans.fit(ideb_2019_scaled[['taxa_aprovacao','ideb']])\n",
        "    inercia.append(kmeans.inertia_)\n",
        "\n",
        "sb.lineplot(x=range(k_min,k_max+1), y=inercia, marker='o')\n",
        "plt.title('Soma dos Quadrados Intra-Cluster')\n",
        "plt.xlabel('Número de Clusters')\n",
        "plt.grid(True)\n"
      ],
      "metadata": {
        "colab": {
          "base_uri": "https://localhost:8080/",
          "height": 358
        },
        "id": "4y0cEagDRNZi",
        "outputId": "6e1a63d0-94e9-4565-c776-8e521444cbc7"
      },
      "execution_count": null,
      "outputs": [
        {
          "output_type": "display_data",
          "data": {
            "text/plain": [
              "<Figure size 1008x360 with 1 Axes>"
            ],
            "image/png": "[encoded data removed]"
          },
          "metadata": {}
        }
      ]
    },
    {
      "cell_type": "markdown",
      "source": [
        "O cotovelo estaria entre 4 ou 5 clusters"
      ],
      "metadata": {
        "id": "h9vGtKhLRNiw"
      }
    },
    {
      "cell_type": "code",
      "source": [],
      "metadata": {
        "id": "Hu1NHYLVRNsy"
      },
      "execution_count": null,
      "outputs": []
    },
    {
      "cell_type": "markdown",
      "source": [
        "### Atividade 5: Use o método da silhueta para encontrar um valor adequado de k"
      ],
      "metadata": {
        "id": "OCXL1qDNPAwg"
      }
    },
    {
      "cell_type": "code",
      "source": [
        "# seu código\n",
        "# importando a métrica\n",
        "from sklearn.metrics import silhouette_score\n",
        "\n",
        "silhueta = []\n",
        "k_min = 2\n",
        "k_max = 10\n",
        "n = [i for i in range(k_min, k_max+1)]\n",
        "\n",
        "for i in range(k_min,k_max+1):\n",
        "    kmeans = KMeans(n_clusters=i, random_state=42)\n",
        "    kmeans.fit(ideb_2019_scaled[['taxa_aprovacao','ideb']])\n",
        "    silhueta.append(silhouette_score(ideb_2019_scaled[['taxa_aprovacao','ideb']],\n",
        "                                     kmeans.labels_,\n",
        "                                     metric='euclidean'))\n",
        "\n",
        "sb.barplot(x=n, y=silhueta, color='blue')\n",
        "plt.title('Coeficiente de Silhueta')\n",
        "plt.xlabel('Número de Clusters')\n",
        "plt.grid(True)"
      ],
      "metadata": {
        "id": "FHq5nB27WLdW",
        "colab": {
          "base_uri": "https://localhost:8080/",
          "height": 358
        },
        "outputId": "bcc7cb72-fb8f-42b6-ab62-68a23eccb420"
      },
      "execution_count": null,
      "outputs": [
        {
          "output_type": "display_data",
          "data": {
            "text/plain": [
              "<Figure size 1008x360 with 1 Axes>"
            ],
            "image/png": "[encoded data removed]"
          },
          "metadata": {}
        }
      ]
    },
    {
      "cell_type": "markdown",
      "source": [
        "### Atividade 6: Faça a clusterização com o valor escolhido para k."
      ],
      "metadata": {
        "id": "2p-vTKMfOoUZ"
      }
    },
    {
      "cell_type": "code",
      "source": [
        "# seu código\n",
        "fig, ax = plt.subplots()\n",
        "\n",
        "sb.lineplot(x=range(k_min,k_max+1), y=inercia, marker='o')\n",
        "\n",
        "plt.legend(labels=[\"cotovelo\"], bbox_to_anchor=(0.8, 1), loc='upper right')\n",
        "\n",
        "ax2 = ax.twinx()\n",
        "\n",
        "sb.lineplot(x=range(k_min,k_max+1), y=silhueta, marker='o', color='red')\n",
        "\n",
        "plt.legend(labels=[\"silhueta\"], bbox_to_anchor=(0.8, 0.9), loc='upper right');"
      ],
      "metadata": {
        "id": "CTa-cXjGWNbn",
        "colab": {
          "base_uri": "https://localhost:8080/",
          "height": 325
        },
        "outputId": "8de888b2-a57b-4165-9768-3b4def8d5e60"
      },
      "execution_count": null,
      "outputs": [
        {
          "output_type": "display_data",
          "data": {
            "text/plain": [
              "<Figure size 1008x360 with 2 Axes>"
            ],
            "image/png": "[encoded data removed]"
          },
          "metadata": {}
        }
      ]
    },
    {
      "cell_type": "markdown",
      "source": [
        "Os gráficos não se cruzam, mas Coef. de silhueta tem um aumnto de 5 para 6. Então, entendo que há uma diferença maior entre os clusters usando k=6 do que 5. \n",
        "\n",
        "--- \n"
      ],
      "metadata": {
        "id": "slsn582RYC-1"
      }
    },
    {
      "cell_type": "markdown",
      "source": [
        "### Atividade 7: Faça um gráfico de dispersão destacando cada grupo."
      ],
      "metadata": {
        "id": "otEYFO5KOshc"
      }
    },
    {
      "cell_type": "code",
      "source": [
        "# seu código\n",
        "kmeans = KMeans(n_clusters=6, random_state=42)\n",
        "\n",
        "kmeans.fit(ideb_2019_scaled[['taxa_aprovacao','ideb']])\n",
        "\n",
        "ideb_2019_scaled['grupos'] = kmeans.labels_.tolist()\n",
        "ideb_2019_scaled.head()\n",
        "\n"
      ],
      "metadata": {
        "id": "vC91Txh9WO6C",
        "colab": {
          "base_uri": "https://localhost:8080/",
          "height": 206
        },
        "outputId": "ba0769fc-16ec-417d-9af8-b9b95dda4b80"
      },
      "execution_count": null,
      "outputs": [
        {
          "output_type": "execute_result",
          "data": {
            "text/plain": [
              "   ano  taxa_aprovacao  nota_saeb_matematica  nota_saeb_lingua_portuguesa  \\\n",
              "0  0.0       -0.025280              0.080727                    -0.016434   \n",
              "1  0.0        0.801179             -0.437122                    -0.531887   \n",
              "2  0.0       -0.426168             -1.474271                    -1.443233   \n",
              "3  0.0       -1.670713             -1.889188                    -1.751891   \n",
              "4  0.0       -1.323101             -0.713999                    -0.626401   \n",
              "\n",
              "       ideb sigla_uf  grupos  \n",
              "0  0.092154       AC       0  \n",
              "1 -0.201424       AL       5  \n",
              "2 -1.063297       AM       3  \n",
              "3 -1.674063       AP       1  \n",
              "4 -1.060175       BA       1  "
            ],
            "text/html": [
              "\n",
              "  <div id=\"df-4cafa74a-89a3-4777-a074-ee390853842f\">\n",
              "    <div class=\"colab-df-container\">\n",
              "      <div>\n",
              "<style scoped>\n",
              "    .dataframe tbody tr th:only-of-type {\n",
              "        vertical-align: middle;\n",
              "    }\n",
              "\n",
              "    .dataframe tbody tr th {\n",
              "        vertical-align: top;\n",
              "    }\n",
              "\n",
              "    .dataframe thead th {\n",
              "        text-align: right;\n",
              "    }\n",
              "</style>\n",
              "<table border=\"1\" class=\"dataframe\">\n",
              "  <thead>\n",
              "    <tr style=\"text-align: right;\">\n",
              "      <th></th>\n",
              "      <th>ano</th>\n",
              "      <th>taxa_aprovacao</th>\n",
              "      <th>nota_saeb_matematica</th>\n",
              "      <th>nota_saeb_lingua_portuguesa</th>\n",
              "      <th>ideb</th>\n",
              "      <th>sigla_uf</th>\n",
              "      <th>grupos</th>\n",
              "    </tr>\n",
              "  </thead>\n",
              "  <tbody>\n",
              "    <tr>\n",
              "      <th>0</th>\n",
              "      <td>0.0</td>\n",
              "      <td>-0.025280</td>\n",
              "      <td>0.080727</td>\n",
              "      <td>-0.016434</td>\n",
              "      <td>0.092154</td>\n",
              "      <td>AC</td>\n",
              "      <td>0</td>\n",
              "    </tr>\n",
              "    <tr>\n",
              "      <th>1</th>\n",
              "      <td>0.0</td>\n",
              "      <td>0.801179</td>\n",
              "      <td>-0.437122</td>\n",
              "      <td>-0.531887</td>\n",
              "      <td>-0.201424</td>\n",
              "      <td>AL</td>\n",
              "      <td>5</td>\n",
              "    </tr>\n",
              "    <tr>\n",
              "      <th>2</th>\n",
              "      <td>0.0</td>\n",
              "      <td>-0.426168</td>\n",
              "      <td>-1.474271</td>\n",
              "      <td>-1.443233</td>\n",
              "      <td>-1.063297</td>\n",
              "      <td>AM</td>\n",
              "      <td>3</td>\n",
              "    </tr>\n",
              "    <tr>\n",
              "      <th>3</th>\n",
              "      <td>0.0</td>\n",
              "      <td>-1.670713</td>\n",
              "      <td>-1.889188</td>\n",
              "      <td>-1.751891</td>\n",
              "      <td>-1.674063</td>\n",
              "      <td>AP</td>\n",
              "      <td>1</td>\n",
              "    </tr>\n",
              "    <tr>\n",
              "      <th>4</th>\n",
              "      <td>0.0</td>\n",
              "      <td>-1.323101</td>\n",
              "      <td>-0.713999</td>\n",
              "      <td>-0.626401</td>\n",
              "      <td>-1.060175</td>\n",
              "      <td>BA</td>\n",
              "      <td>1</td>\n",
              "    </tr>\n",
              "  </tbody>\n",
              "</table>\n",
              "</div>\n",
              "      <button class=\"colab-df-convert\" onclick=\"convertToInteractive('df-4cafa74a-89a3-4777-a074-ee390853842f')\"\n",
              "              title=\"Convert this dataframe to an interactive table.\"\n",
              "              style=\"display:none;\">\n",
              "        \n",
              "  <svg xmlns=\"http://www.w3.org/2000/svg\" height=\"24px\"viewBox=\"0 0 24 24\"\n",
              "       width=\"24px\">\n",
              "    <path d=\"M0 0h24v24H0V0z\" fill=\"none\"/>\n",
              "    <path d=\"M18.56 5.44l.94 2.06.94-2.06 2.06-.94-2.06-.94-.94-2.06-.94 2.06-2.06.94zm-11 1L8.5 8.5l.94-2.06 2.06-.94-2.06-.94L8.5 2.5l-.94 2.06-2.06.94zm10 10l.94 2.06.94-2.06 2.06-.94-2.06-.94-.94-2.06-.94 2.06-2.06.94z\"/><path d=\"M17.41 7.96l-1.37-1.37c-.4-.4-.92-.59-1.43-.59-.52 0-1.04.2-1.43.59L10.3 9.45l-7.72 7.72c-.78.78-.78 2.05 0 2.83L4 21.41c.39.39.9.59 1.41.59.51 0 1.02-.2 1.41-.59l7.78-7.78 2.81-2.81c.8-.78.8-2.07 0-2.86zM5.41 20L4 18.59l7.72-7.72 1.47 1.35L5.41 20z\"/>\n",
              "  </svg>\n",
              "      </button>\n",
              "      \n",
              "  <style>\n",
              "    .colab-df-container {\n",
              "      display:flex;\n",
              "      flex-wrap:wrap;\n",
              "      gap: 12px;\n",
              "    }\n",
              "\n",
              "    .colab-df-convert {\n",
              "      background-color: #E8F0FE;\n",
              "      border: none;\n",
              "      border-radius: 50%;\n",
              "      cursor: pointer;\n",
              "      display: none;\n",
              "      fill: #1967D2;\n",
              "      height: 32px;\n",
              "      padding: 0 0 0 0;\n",
              "      width: 32px;\n",
              "    }\n",
              "\n",
              "    .colab-df-convert:hover {\n",
              "      background-color: #E2EBFA;\n",
              "      box-shadow: 0px 1px 2px rgba(60, 64, 67, 0.3), 0px 1px 3px 1px rgba(60, 64, 67, 0.15);\n",
              "      fill: #174EA6;\n",
              "    }\n",
              "\n",
              "    [theme=dark] .colab-df-convert {\n",
              "      background-color: #3B4455;\n",
              "      fill: #D2E3FC;\n",
              "    }\n",
              "\n",
              "    [theme=dark] .colab-df-convert:hover {\n",
              "      background-color: #434B5C;\n",
              "      box-shadow: 0px 1px 3px 1px rgba(0, 0, 0, 0.15);\n",
              "      filter: drop-shadow(0px 1px 2px rgba(0, 0, 0, 0.3));\n",
              "      fill: #FFFFFF;\n",
              "    }\n",
              "  </style>\n",
              "\n",
              "      <script>\n",
              "        const buttonEl =\n",
              "          document.querySelector('#df-4cafa74a-89a3-4777-a074-ee390853842f button.colab-df-convert');\n",
              "        buttonEl.style.display =\n",
              "          google.colab.kernel.accessAllowed ? 'block' : 'none';\n",
              "\n",
              "        async function convertToInteractive(key) {\n",
              "          const element = document.querySelector('#df-4cafa74a-89a3-4777-a074-ee390853842f');\n",
              "          const dataTable =\n",
              "            await google.colab.kernel.invokeFunction('convertToInteractive',\n",
              "                                                     [key], {});\n",
              "          if (!dataTable) return;\n",
              "\n",
              "          const docLinkHtml = 'Like what you see? Visit the ' +\n",
              "            '<a target=\"_blank\" href=https://colab.research.google.com/notebooks/data_table.ipynb>data table notebook</a>'\n",
              "            + ' to learn more about interactive tables.';\n",
              "          element.innerHTML = '';\n",
              "          dataTable['output_type'] = 'display_data';\n",
              "          await google.colab.output.renderOutput(dataTable, element);\n",
              "          const docLink = document.createElement('div');\n",
              "          docLink.innerHTML = docLinkHtml;\n",
              "          element.appendChild(docLink);\n",
              "        }\n",
              "      </script>\n",
              "    </div>\n",
              "  </div>\n",
              "  "
            ]
          },
          "metadata": {},
          "execution_count": 47
        }
      ]
    },
    {
      "cell_type": "code",
      "source": [
        "kmeans.labels_"
      ],
      "metadata": {
        "colab": {
          "base_uri": "https://localhost:8080/"
        },
        "id": "fMR1HAdfaI7v",
        "outputId": "d96b0ca8-e11b-4b64-e5ef-25ba87def39d"
      },
      "execution_count": null,
      "outputs": [
        {
          "output_type": "execute_result",
          "data": {
            "text/plain": [
              "array([0, 5, 3, 1, 1, 2, 4, 4, 2, 5, 4, 0, 0, 1, 3, 5, 0, 2, 0, 1, 4, 3,\n",
              "       4, 4, 1, 2, 5], dtype=int32)"
            ]
          },
          "metadata": {},
          "execution_count": 48
        }
      ]
    },
    {
      "cell_type": "code",
      "source": [
        "sb.scatterplot(data=ideb_2019_scaled, x='taxa_aprovacao', y='ideb', hue='grupos');"
      ],
      "metadata": {
        "colab": {
          "base_uri": "https://localhost:8080/",
          "height": 342
        },
        "id": "2dvcrXmqaIza",
        "outputId": "4a122d5c-f5a7-47bb-d2ed-e688320d5c57"
      },
      "execution_count": null,
      "outputs": [
        {
          "output_type": "display_data",
          "data": {
            "text/plain": [
              "<Figure size 1008x360 with 1 Axes>"
            ],
            "image/png": "[encoded data removed]"
          },
          "metadata": {}
        }
      ]
    },
    {
      "cell_type": "code",
      "source": [],
      "metadata": {
        "id": "7o-NL3oUaIta"
      },
      "execution_count": null,
      "outputs": []
    },
    {
      "cell_type": "markdown",
      "source": [
        "### Atividade 8: Quais são os estados de cada grupo?"
      ],
      "metadata": {
        "id": "VcXRkwdVOxwN"
      }
    },
    {
      "cell_type": "code",
      "source": [
        "# seu código\n",
        "sb.scatterplot(data=ideb_2019_scaled, x='taxa_aprovacao', y='ideb', hue='grupos');\n",
        "\n",
        "aprov = ideb_2019_scaled['taxa_aprovacao']\n",
        "ideb = ideb_2019_scaled['ideb']\n",
        "ufs = ['AC','AL','AP','AM','BA','CE','DF','ES','GO','MA','MT','MS','MG',\n",
        "           'PR','PB','PA','PE','PI','RN','RS','RJ','RO','RR','SC','SE','SP','TO']\n",
        "\n",
        "for i, ufs in enumerate(ufs):\n",
        "    plt.annotate(ufs, (aprov[i], ideb[i]) );\n",
        "\n",
        "\n"
      ],
      "metadata": {
        "id": "30ybTnxRWQ8n",
        "colab": {
          "base_uri": "https://localhost:8080/",
          "height": 342
        },
        "outputId": "7ddc5da0-cd6b-44cf-f0ac-e4388a92261e"
      },
      "execution_count": null,
      "outputs": [
        {
          "output_type": "display_data",
          "data": {
            "text/plain": [
              "<Figure size 1008x360 with 1 Axes>"
            ],
            "image/png": "[encoded data removed]"
          },
          "metadata": {}
        }
      ]
    },
    {
      "cell_type": "code",
      "source": [
        "UFs = ideb_2019_scaled.groupby('grupos')['sigla_uf'].unique().reset_index()"
      ],
      "metadata": {
        "id": "k7br9Hszbkk6"
      },
      "execution_count": null,
      "outputs": []
    },
    {
      "cell_type": "code",
      "source": [
        "UFs"
      ],
      "metadata": {
        "colab": {
          "base_uri": "https://localhost:8080/",
          "height": 238
        },
        "id": "VMyxY-fTbkhP",
        "outputId": "027b1363-1330-403e-f5fd-f2a212c4094b"
      },
      "execution_count": null,
      "outputs": [
        {
          "output_type": "execute_result",
          "data": {
            "text/plain": [
              "   grupos                  sigla_uf\n",
              "0       0      [AC, MS, MT, PI, RJ]\n",
              "1       1      [AP, BA, PA, RN, SE]\n",
              "2       2          [CE, GO, PR, SP]\n",
              "3       3              [AM, PB, RR]\n",
              "4       4  [DF, ES, MG, RO, RS, SC]\n",
              "5       5          [AL, MA, PE, TO]"
            ],
            "text/html": [
              "\n",
              "  <div id=\"df-e2d52c28-0134-4273-ac4a-2e08837b4425\">\n",
              "    <div class=\"colab-df-container\">\n",
              "      <div>\n",
              "<style scoped>\n",
              "    .dataframe tbody tr th:only-of-type {\n",
              "        vertical-align: middle;\n",
              "    }\n",
              "\n",
              "    .dataframe tbody tr th {\n",
              "        vertical-align: top;\n",
              "    }\n",
              "\n",
              "    .dataframe thead th {\n",
              "        text-align: right;\n",
              "    }\n",
              "</style>\n",
              "<table border=\"1\" class=\"dataframe\">\n",
              "  <thead>\n",
              "    <tr style=\"text-align: right;\">\n",
              "      <th></th>\n",
              "      <th>grupos</th>\n",
              "      <th>sigla_uf</th>\n",
              "    </tr>\n",
              "  </thead>\n",
              "  <tbody>\n",
              "    <tr>\n",
              "      <th>0</th>\n",
              "      <td>0</td>\n",
              "      <td>[AC, MS, MT, PI, RJ]</td>\n",
              "    </tr>\n",
              "    <tr>\n",
              "      <th>1</th>\n",
              "      <td>1</td>\n",
              "      <td>[AP, BA, PA, RN, SE]</td>\n",
              "    </tr>\n",
              "    <tr>\n",
              "      <th>2</th>\n",
              "      <td>2</td>\n",
              "      <td>[CE, GO, PR, SP]</td>\n",
              "    </tr>\n",
              "    <tr>\n",
              "      <th>3</th>\n",
              "      <td>3</td>\n",
              "      <td>[AM, PB, RR]</td>\n",
              "    </tr>\n",
              "    <tr>\n",
              "      <th>4</th>\n",
              "      <td>4</td>\n",
              "      <td>[DF, ES, MG, RO, RS, SC]</td>\n",
              "    </tr>\n",
              "    <tr>\n",
              "      <th>5</th>\n",
              "      <td>5</td>\n",
              "      <td>[AL, MA, PE, TO]</td>\n",
              "    </tr>\n",
              "  </tbody>\n",
              "</table>\n",
              "</div>\n",
              "      <button class=\"colab-df-convert\" onclick=\"convertToInteractive('df-e2d52c28-0134-4273-ac4a-2e08837b4425')\"\n",
              "              title=\"Convert this dataframe to an interactive table.\"\n",
              "              style=\"display:none;\">\n",
              "        \n",
              "  <svg xmlns=\"http://www.w3.org/2000/svg\" height=\"24px\"viewBox=\"0 0 24 24\"\n",
              "       width=\"24px\">\n",
              "    <path d=\"M0 0h24v24H0V0z\" fill=\"none\"/>\n",
              "    <path d=\"M18.56 5.44l.94 2.06.94-2.06 2.06-.94-2.06-.94-.94-2.06-.94 2.06-2.06.94zm-11 1L8.5 8.5l.94-2.06 2.06-.94-2.06-.94L8.5 2.5l-.94 2.06-2.06.94zm10 10l.94 2.06.94-2.06 2.06-.94-2.06-.94-.94-2.06-.94 2.06-2.06.94z\"/><path d=\"M17.41 7.96l-1.37-1.37c-.4-.4-.92-.59-1.43-.59-.52 0-1.04.2-1.43.59L10.3 9.45l-7.72 7.72c-.78.78-.78 2.05 0 2.83L4 21.41c.39.39.9.59 1.41.59.51 0 1.02-.2 1.41-.59l7.78-7.78 2.81-2.81c.8-.78.8-2.07 0-2.86zM5.41 20L4 18.59l7.72-7.72 1.47 1.35L5.41 20z\"/>\n",
              "  </svg>\n",
              "      </button>\n",
              "      \n",
              "  <style>\n",
              "    .colab-df-container {\n",
              "      display:flex;\n",
              "      flex-wrap:wrap;\n",
              "      gap: 12px;\n",
              "    }\n",
              "\n",
              "    .colab-df-convert {\n",
              "      background-color: #E8F0FE;\n",
              "      border: none;\n",
              "      border-radius: 50%;\n",
              "      cursor: pointer;\n",
              "      display: none;\n",
              "      fill: #1967D2;\n",
              "      height: 32px;\n",
              "      padding: 0 0 0 0;\n",
              "      width: 32px;\n",
              "    }\n",
              "\n",
              "    .colab-df-convert:hover {\n",
              "      background-color: #E2EBFA;\n",
              "      box-shadow: 0px 1px 2px rgba(60, 64, 67, 0.3), 0px 1px 3px 1px rgba(60, 64, 67, 0.15);\n",
              "      fill: #174EA6;\n",
              "    }\n",
              "\n",
              "    [theme=dark] .colab-df-convert {\n",
              "      background-color: #3B4455;\n",
              "      fill: #D2E3FC;\n",
              "    }\n",
              "\n",
              "    [theme=dark] .colab-df-convert:hover {\n",
              "      background-color: #434B5C;\n",
              "      box-shadow: 0px 1px 3px 1px rgba(0, 0, 0, 0.15);\n",
              "      filter: drop-shadow(0px 1px 2px rgba(0, 0, 0, 0.3));\n",
              "      fill: #FFFFFF;\n",
              "    }\n",
              "  </style>\n",
              "\n",
              "      <script>\n",
              "        const buttonEl =\n",
              "          document.querySelector('#df-e2d52c28-0134-4273-ac4a-2e08837b4425 button.colab-df-convert');\n",
              "        buttonEl.style.display =\n",
              "          google.colab.kernel.accessAllowed ? 'block' : 'none';\n",
              "\n",
              "        async function convertToInteractive(key) {\n",
              "          const element = document.querySelector('#df-e2d52c28-0134-4273-ac4a-2e08837b4425');\n",
              "          const dataTable =\n",
              "            await google.colab.kernel.invokeFunction('convertToInteractive',\n",
              "                                                     [key], {});\n",
              "          if (!dataTable) return;\n",
              "\n",
              "          const docLinkHtml = 'Like what you see? Visit the ' +\n",
              "            '<a target=\"_blank\" href=https://colab.research.google.com/notebooks/data_table.ipynb>data table notebook</a>'\n",
              "            + ' to learn more about interactive tables.';\n",
              "          element.innerHTML = '';\n",
              "          dataTable['output_type'] = 'display_data';\n",
              "          await google.colab.output.renderOutput(dataTable, element);\n",
              "          const docLink = document.createElement('div');\n",
              "          docLink.innerHTML = docLinkHtml;\n",
              "          element.appendChild(docLink);\n",
              "        }\n",
              "      </script>\n",
              "    </div>\n",
              "  </div>\n",
              "  "
            ]
          },
          "metadata": {},
          "execution_count": 52
        }
      ]
    },
    {
      "cell_type": "markdown",
      "source": [
        "### Atividade 9: Faça um boxplot para comparar os valores das variáveis por grupo."
      ],
      "metadata": {
        "id": "ZdgBTz3Zcuc4"
      }
    },
    {
      "cell_type": "code",
      "source": [
        "# seu código\n",
        "\n",
        "sb.boxplot(x=ideb_2019_scaled['grupos'],y=ideb_2019['ideb'])"
      ],
      "metadata": {
        "id": "gt_ESjVxWTis",
        "colab": {
          "base_uri": "https://localhost:8080/",
          "height": 360
        },
        "outputId": "1b23fa92-6d46-480d-fd3e-eaecf19164fd"
      },
      "execution_count": null,
      "outputs": [
        {
          "output_type": "execute_result",
          "data": {
            "text/plain": [
              "<matplotlib.axes._subplots.AxesSubplot at 0x7fc3ebabe160>"
            ]
          },
          "metadata": {},
          "execution_count": 54
        },
        {
          "output_type": "display_data",
          "data": {
            "text/plain": [
              "<Figure size 1008x360 with 1 Axes>"
            ],
            "image/png": "[encoded data removed]"
          },
          "metadata": {}
        }
      ]
    },
    {
      "cell_type": "code",
      "source": [
        "sb.boxplot(x=ideb_2019_scaled['grupos'],y=ideb_2019['taxa_aprovacao'])"
      ],
      "metadata": {
        "colab": {
          "base_uri": "https://localhost:8080/",
          "height": 360
        },
        "id": "b2hWVmMljVrN",
        "outputId": "33b2b0e2-8e88-4412-9a39-040e1dbcfc24"
      },
      "execution_count": null,
      "outputs": [
        {
          "output_type": "execute_result",
          "data": {
            "text/plain": [
              "<matplotlib.axes._subplots.AxesSubplot at 0x7fc3eb9fb790>"
            ]
          },
          "metadata": {},
          "execution_count": 55
        },
        {
          "output_type": "display_data",
          "data": {
            "text/plain": [
              "<Figure size 1008x360 with 1 Axes>"
            ],
            "image/png": "[encoded data removed]"
          },
          "metadata": {}
        }
      ]
    },
    {
      "cell_type": "code",
      "source": [],
      "metadata": {
        "id": "4ILx8OuCjVio"
      },
      "execution_count": null,
      "outputs": []
    },
    {
      "cell_type": "markdown",
      "source": [],
      "metadata": {
        "id": "uVqCvMJQjVU0"
      }
    },
    {
      "cell_type": "markdown",
      "source": [
        "### Atividade 10: Podemos afirmar, estatisticamente, que os grupos são distintos? Isto é, os dados foram adequadamente clusterizados?"
      ],
      "metadata": {
        "id": "WMzMCRWXf0yQ"
      }
    },
    {
      "cell_type": "code",
      "source": [
        "# seu código\n",
        "from scipy.stats import f_oneway\n",
        "\n",
        "ideb_0 = ideb_2019_scaled[['grupos', 'taxa_aprovacao', 'ideb']][ideb_2019_scaled['grupos'] == 0]\n",
        "ideb_1 = ideb_2019_scaled[['grupos', 'taxa_aprovacao', 'ideb']][ideb_2019_scaled['grupos'] == 1]\n",
        "ideb_2 = ideb_2019_scaled[['grupos', 'taxa_aprovacao', 'ideb']][ideb_2019_scaled['grupos'] == 2]\n",
        "ideb_3 = ideb_2019_scaled[['grupos', 'taxa_aprovacao', 'ideb']][ideb_2019_scaled['grupos'] == 3]\n",
        "ideb_4 = ideb_2019_scaled[['grupos', 'taxa_aprovacao', 'ideb']][ideb_2019_scaled['grupos'] == 4]\n",
        "ideb_5 = ideb_2019_scaled[['grupos', 'taxa_aprovacao', 'ideb']][ideb_2019_scaled['grupos'] == 5]\n",
        "\n",
        "f_oneway(ideb_0[['taxa_aprovacao','ideb']],\n",
        "         ideb_1[['taxa_aprovacao','ideb']],\n",
        "         ideb_2[['taxa_aprovacao','ideb']],\n",
        "         ideb_3[['taxa_aprovacao','ideb']],\n",
        "         ideb_4[['taxa_aprovacao','ideb']],\n",
        "         ideb_5[['taxa_aprovacao','ideb']]\n",
        "         )\n",
        "\n",
        "\n",
        "\n"
      ],
      "metadata": {
        "id": "cmgCqWffWV7D",
        "colab": {
          "base_uri": "https://localhost:8080/"
        },
        "outputId": "c70256a5-efde-468f-9796-726994bfc82b"
      },
      "execution_count": null,
      "outputs": [
        {
          "output_type": "execute_result",
          "data": {
            "text/plain": [
              "F_onewayResult(statistic=array([70.65088719, 46.04565627]), pvalue=array([2.05101040e-12, 1.29433949e-10]))"
            ]
          },
          "metadata": {},
          "execution_count": 56
        }
      ]
    },
    {
      "cell_type": "markdown",
      "source": [
        "H0: os grupos são iguais\n",
        "H1: os grupos são diferentes\n",
        "\n",
        "Como pValor para taxa e ideb são menores que 0,05, podemos afirmar com 95% de confiança que os Clusters são diferentes.\n",
        "\n",
        "Agora vamos testar quais são diferentes com Tukey"
      ],
      "metadata": {
        "id": "WkZASopklqEv"
      }
    },
    {
      "cell_type": "code",
      "source": [
        "from statsmodels.stats.multicomp import pairwise_tukeyhsd\n",
        "\n",
        "print(pairwise_tukeyhsd(endog = ideb_2019_scaled['ideb'],\n",
        "                  groups = ideb_2019_scaled['grupos'],\n",
        "                  alpha = 0.05))"
      ],
      "metadata": {
        "colab": {
          "base_uri": "https://localhost:8080/"
        },
        "id": "O9HFe14vmFPS",
        "outputId": "58deb1a5-36d5-4730-ed40-8a44215ad064"
      },
      "execution_count": null,
      "outputs": [
        {
          "output_type": "stream",
          "name": "stdout",
          "text": [
            "Multiple Comparison of Means - Tukey HSD, FWER=0.05 \n",
            "====================================================\n",
            "group1 group2 meandiff p-adj   lower   upper  reject\n",
            "----------------------------------------------------\n",
            "     0      1  -1.3728  0.001 -2.0215 -0.7241   True\n",
            "     0      2   1.3189  0.001  0.6309  2.0069   True\n",
            "     0      3  -1.1209 0.0016 -1.8699 -0.3718   True\n",
            "     0      4   0.8292  0.005  0.2081  1.4503   True\n",
            "     0      5  -0.3696 0.5519 -1.0576  0.3185  False\n",
            "     1      2   2.6917  0.001  2.0036  3.3797   True\n",
            "     1      3   0.2519 0.8908 -0.4971   1.001  False\n",
            "     1      4    2.202  0.001  1.5809  2.8231   True\n",
            "     1      5   1.0032 0.0021  0.3152  1.6912   True\n",
            "     2      3  -2.4398  0.001 -3.2231 -1.6564   True\n",
            "     2      4  -0.4897 0.2323 -1.1518  0.1724  False\n",
            "     2      5  -1.6885  0.001 -2.4137 -0.9632   True\n",
            "     3      4   1.9501  0.001  1.2248  2.6753   True\n",
            "     3      5   0.7513 0.0651 -0.0321  1.5347  False\n",
            "     4      5  -1.1988  0.001 -1.8608 -0.5367   True\n",
            "----------------------------------------------------\n"
          ]
        }
      ]
    },
    {
      "cell_type": "code",
      "source": [],
      "metadata": {
        "id": "VeYhYdNDn9mp"
      },
      "execution_count": null,
      "outputs": []
    },
    {
      "cell_type": "code",
      "source": [
        "from statsmodels.stats.multicomp import pairwise_tukeyhsd\n",
        "\n",
        "print(pairwise_tukeyhsd(endog = ideb_2019_scaled['taxa_aprovacao'],\n",
        "                  groups = ideb_2019_scaled['grupos'],\n",
        "                  alpha = 0.05))"
      ],
      "metadata": {
        "colab": {
          "base_uri": "https://localhost:8080/"
        },
        "id": "LzYiUHfemGQV",
        "outputId": "fe2df4de-92ff-40a1-84c9-0706981a8e9f"
      },
      "execution_count": null,
      "outputs": [
        {
          "output_type": "stream",
          "name": "stdout",
          "text": [
            "Multiple Comparison of Means - Tukey HSD, FWER=0.05 \n",
            "====================================================\n",
            "group1 group2 meandiff p-adj   lower   upper  reject\n",
            "----------------------------------------------------\n",
            "     0      1  -1.4254  0.001 -1.9569 -0.8939   True\n",
            "     0      2   1.6847  0.001  1.1209  2.2484   True\n",
            "     0      3  -0.3675  0.446 -0.9812  0.2462  False\n",
            "     0      4   0.5655 0.0238  0.0567  1.0744   True\n",
            "     0      5   0.8109 0.0024  0.2472  1.3746   True\n",
            "     1      2   3.1101  0.001  2.5464  3.6738   True\n",
            "     1      3   1.0579  0.001  0.4442  1.6716   True\n",
            "     1      4   1.9909  0.001  1.4821  2.4998   True\n",
            "     1      5   2.2363  0.001  1.6726     2.8   True\n",
            "     2      3  -2.0521  0.001  -2.694 -1.4103   True\n",
            "     2      4  -1.1191  0.001 -1.6616 -0.5767   True\n",
            "     2      5  -0.8738 0.0019  -1.468 -0.2795   True\n",
            "     3      4    0.933  0.001  0.3388  1.5272   True\n",
            "     3      5   1.1784  0.001  0.5366  1.8202   True\n",
            "     4      5   0.2454  0.695 -0.2971  0.7878  False\n",
            "----------------------------------------------------\n"
          ]
        }
      ]
    },
    {
      "cell_type": "markdown",
      "source": [
        "O teste indica que para a média da taxa_aprovacao de cada grupo, apenas os pares de grupos 0-3 e 4-5 são iguais. No entento, esses pares não são iguais para as médias de ideb. \n",
        "\n",
        "Portanto, entendo que considerando **ambas as variáveis**, Ideb e Taxa Aprovação, os 6 grupos são diferentes entre si."
      ],
      "metadata": {
        "id": "vb7MWkmtnyac"
      }
    },
    {
      "cell_type": "code",
      "source": [],
      "metadata": {
        "id": "LOMME9rXmGWl"
      },
      "execution_count": null,
      "outputs": []
    },
    {
      "cell_type": "code",
      "source": [],
      "metadata": {
        "id": "LJQiTwgJmGdt"
      },
      "execution_count": null,
      "outputs": []
    },
    {
      "cell_type": "code",
      "source": [],
      "metadata": {
        "id": "vMR5gI-WmF3R"
      },
      "execution_count": null,
      "outputs": []
    },
    {
      "cell_type": "markdown",
      "source": [
        "### Atividade 11: Faça a clusterização com outro valor para k."
      ],
      "metadata": {
        "id": "3jL3LC5pbXev"
      }
    },
    {
      "cell_type": "code",
      "source": [
        "kmeans = KMeans(n_clusters=4, random_state=42)\n",
        "\n",
        "kmeans.fit(ideb_2019_scaled[['taxa_aprovacao','ideb']])\n",
        "\n",
        "ideb_2019_scaled['grupos4'] = kmeans.labels_.tolist()\n",
        "\n",
        "kmeans.labels_\n",
        "ideb_2019_scaled.head()\n"
      ],
      "metadata": {
        "colab": {
          "base_uri": "https://localhost:8080/",
          "height": 206
        },
        "id": "ega-8v2dmFTm",
        "outputId": "7ab8536d-cc23-4105-ae05-38f379ad8d36"
      },
      "execution_count": null,
      "outputs": [
        {
          "output_type": "execute_result",
          "data": {
            "text/plain": [
              "   ano  taxa_aprovacao  nota_saeb_matematica  nota_saeb_lingua_portuguesa  \\\n",
              "0  0.0       -0.025280              0.080727                    -0.016434   \n",
              "1  0.0        0.801179             -0.437122                    -0.531887   \n",
              "2  0.0       -0.426168             -1.474271                    -1.443233   \n",
              "3  0.0       -1.670713             -1.889188                    -1.751891   \n",
              "4  0.0       -1.323101             -0.713999                    -0.626401   \n",
              "\n",
              "       ideb sigla_uf  grupos  grupos4  \n",
              "0  0.092154       AC       0        0  \n",
              "1 -0.201424       AL       5        0  \n",
              "2 -1.063297       AM       3        2  \n",
              "3 -1.674063       AP       1        1  \n",
              "4 -1.060175       BA       1        1  "
            ],
            "text/html": [
              "\n",
              "  <div id=\"df-6a354ce6-be4a-44dd-b4f8-99e5f65c8f6f\">\n",
              "    <div class=\"colab-df-container\">\n",
              "      <div>\n",
              "<style scoped>\n",
              "    .dataframe tbody tr th:only-of-type {\n",
              "        vertical-align: middle;\n",
              "    }\n",
              "\n",
              "    .dataframe tbody tr th {\n",
              "        vertical-align: top;\n",
              "    }\n",
              "\n",
              "    .dataframe thead th {\n",
              "        text-align: right;\n",
              "    }\n",
              "</style>\n",
              "<table border=\"1\" class=\"dataframe\">\n",
              "  <thead>\n",
              "    <tr style=\"text-align: right;\">\n",
              "      <th></th>\n",
              "      <th>ano</th>\n",
              "      <th>taxa_aprovacao</th>\n",
              "      <th>nota_saeb_matematica</th>\n",
              "      <th>nota_saeb_lingua_portuguesa</th>\n",
              "      <th>ideb</th>\n",
              "      <th>sigla_uf</th>\n",
              "      <th>grupos</th>\n",
              "      <th>grupos4</th>\n",
              "    </tr>\n",
              "  </thead>\n",
              "  <tbody>\n",
              "    <tr>\n",
              "      <th>0</th>\n",
              "      <td>0.0</td>\n",
              "      <td>-0.025280</td>\n",
              "      <td>0.080727</td>\n",
              "      <td>-0.016434</td>\n",
              "      <td>0.092154</td>\n",
              "      <td>AC</td>\n",
              "      <td>0</td>\n",
              "      <td>0</td>\n",
              "    </tr>\n",
              "    <tr>\n",
              "      <th>1</th>\n",
              "      <td>0.0</td>\n",
              "      <td>0.801179</td>\n",
              "      <td>-0.437122</td>\n",
              "      <td>-0.531887</td>\n",
              "      <td>-0.201424</td>\n",
              "      <td>AL</td>\n",
              "      <td>5</td>\n",
              "      <td>0</td>\n",
              "    </tr>\n",
              "    <tr>\n",
              "      <th>2</th>\n",
              "      <td>0.0</td>\n",
              "      <td>-0.426168</td>\n",
              "      <td>-1.474271</td>\n",
              "      <td>-1.443233</td>\n",
              "      <td>-1.063297</td>\n",
              "      <td>AM</td>\n",
              "      <td>3</td>\n",
              "      <td>2</td>\n",
              "    </tr>\n",
              "    <tr>\n",
              "      <th>3</th>\n",
              "      <td>0.0</td>\n",
              "      <td>-1.670713</td>\n",
              "      <td>-1.889188</td>\n",
              "      <td>-1.751891</td>\n",
              "      <td>-1.674063</td>\n",
              "      <td>AP</td>\n",
              "      <td>1</td>\n",
              "      <td>1</td>\n",
              "    </tr>\n",
              "    <tr>\n",
              "      <th>4</th>\n",
              "      <td>0.0</td>\n",
              "      <td>-1.323101</td>\n",
              "      <td>-0.713999</td>\n",
              "      <td>-0.626401</td>\n",
              "      <td>-1.060175</td>\n",
              "      <td>BA</td>\n",
              "      <td>1</td>\n",
              "      <td>1</td>\n",
              "    </tr>\n",
              "  </tbody>\n",
              "</table>\n",
              "</div>\n",
              "      <button class=\"colab-df-convert\" onclick=\"convertToInteractive('df-6a354ce6-be4a-44dd-b4f8-99e5f65c8f6f')\"\n",
              "              title=\"Convert this dataframe to an interactive table.\"\n",
              "              style=\"display:none;\">\n",
              "        \n",
              "  <svg xmlns=\"http://www.w3.org/2000/svg\" height=\"24px\"viewBox=\"0 0 24 24\"\n",
              "       width=\"24px\">\n",
              "    <path d=\"M0 0h24v24H0V0z\" fill=\"none\"/>\n",
              "    <path d=\"M18.56 5.44l.94 2.06.94-2.06 2.06-.94-2.06-.94-.94-2.06-.94 2.06-2.06.94zm-11 1L8.5 8.5l.94-2.06 2.06-.94-2.06-.94L8.5 2.5l-.94 2.06-2.06.94zm10 10l.94 2.06.94-2.06 2.06-.94-2.06-.94-.94-2.06-.94 2.06-2.06.94z\"/><path d=\"M17.41 7.96l-1.37-1.37c-.4-.4-.92-.59-1.43-.59-.52 0-1.04.2-1.43.59L10.3 9.45l-7.72 7.72c-.78.78-.78 2.05 0 2.83L4 21.41c.39.39.9.59 1.41.59.51 0 1.02-.2 1.41-.59l7.78-7.78 2.81-2.81c.8-.78.8-2.07 0-2.86zM5.41 20L4 18.59l7.72-7.72 1.47 1.35L5.41 20z\"/>\n",
              "  </svg>\n",
              "      </button>\n",
              "      \n",
              "  <style>\n",
              "    .colab-df-container {\n",
              "      display:flex;\n",
              "      flex-wrap:wrap;\n",
              "      gap: 12px;\n",
              "    }\n",
              "\n",
              "    .colab-df-convert {\n",
              "      background-color: #E8F0FE;\n",
              "      border: none;\n",
              "      border-radius: 50%;\n",
              "      cursor: pointer;\n",
              "      display: none;\n",
              "      fill: #1967D2;\n",
              "      height: 32px;\n",
              "      padding: 0 0 0 0;\n",
              "      width: 32px;\n",
              "    }\n",
              "\n",
              "    .colab-df-convert:hover {\n",
              "      background-color: #E2EBFA;\n",
              "      box-shadow: 0px 1px 2px rgba(60, 64, 67, 0.3), 0px 1px 3px 1px rgba(60, 64, 67, 0.15);\n",
              "      fill: #174EA6;\n",
              "    }\n",
              "\n",
              "    [theme=dark] .colab-df-convert {\n",
              "      background-color: #3B4455;\n",
              "      fill: #D2E3FC;\n",
              "    }\n",
              "\n",
              "    [theme=dark] .colab-df-convert:hover {\n",
              "      background-color: #434B5C;\n",
              "      box-shadow: 0px 1px 3px 1px rgba(0, 0, 0, 0.15);\n",
              "      filter: drop-shadow(0px 1px 2px rgba(0, 0, 0, 0.3));\n",
              "      fill: #FFFFFF;\n",
              "    }\n",
              "  </style>\n",
              "\n",
              "      <script>\n",
              "        const buttonEl =\n",
              "          document.querySelector('#df-6a354ce6-be4a-44dd-b4f8-99e5f65c8f6f button.colab-df-convert');\n",
              "        buttonEl.style.display =\n",
              "          google.colab.kernel.accessAllowed ? 'block' : 'none';\n",
              "\n",
              "        async function convertToInteractive(key) {\n",
              "          const element = document.querySelector('#df-6a354ce6-be4a-44dd-b4f8-99e5f65c8f6f');\n",
              "          const dataTable =\n",
              "            await google.colab.kernel.invokeFunction('convertToInteractive',\n",
              "                                                     [key], {});\n",
              "          if (!dataTable) return;\n",
              "\n",
              "          const docLinkHtml = 'Like what you see? Visit the ' +\n",
              "            '<a target=\"_blank\" href=https://colab.research.google.com/notebooks/data_table.ipynb>data table notebook</a>'\n",
              "            + ' to learn more about interactive tables.';\n",
              "          element.innerHTML = '';\n",
              "          dataTable['output_type'] = 'display_data';\n",
              "          await google.colab.output.renderOutput(dataTable, element);\n",
              "          const docLink = document.createElement('div');\n",
              "          docLink.innerHTML = docLinkHtml;\n",
              "          element.appendChild(docLink);\n",
              "        }\n",
              "      </script>\n",
              "    </div>\n",
              "  </div>\n",
              "  "
            ]
          },
          "metadata": {},
          "execution_count": 60
        }
      ]
    },
    {
      "cell_type": "code",
      "source": [
        "UFs4 = ideb_2019_scaled.groupby('grupos4')['sigla_uf'].unique().reset_index()\n",
        "UFs4"
      ],
      "metadata": {
        "colab": {
          "base_uri": "https://localhost:8080/",
          "height": 175
        },
        "id": "LWpr6_pxmFRs",
        "outputId": "167bb99f-2c4f-40df-d31f-add8f0f001ce"
      },
      "execution_count": null,
      "outputs": [
        {
          "output_type": "execute_result",
          "data": {
            "text/plain": [
              "   grupos4                                          sigla_uf\n",
              "0        0  [AC, AL, DF, MG, MS, MT, PE, RJ, RO, RS, SC, TO]\n",
              "1        1                              [AP, BA, PA, RN, SE]\n",
              "2        2                              [AM, MA, PB, PI, RR]\n",
              "3        3                              [CE, ES, GO, PR, SP]"
            ],
            "text/html": [
              "\n",
              "  <div id=\"df-8ad79d05-f633-4416-a76f-77272ce53044\">\n",
              "    <div class=\"colab-df-container\">\n",
              "      <div>\n",
              "<style scoped>\n",
              "    .dataframe tbody tr th:only-of-type {\n",
              "        vertical-align: middle;\n",
              "    }\n",
              "\n",
              "    .dataframe tbody tr th {\n",
              "        vertical-align: top;\n",
              "    }\n",
              "\n",
              "    .dataframe thead th {\n",
              "        text-align: right;\n",
              "    }\n",
              "</style>\n",
              "<table border=\"1\" class=\"dataframe\">\n",
              "  <thead>\n",
              "    <tr style=\"text-align: right;\">\n",
              "      <th></th>\n",
              "      <th>grupos4</th>\n",
              "      <th>sigla_uf</th>\n",
              "    </tr>\n",
              "  </thead>\n",
              "  <tbody>\n",
              "    <tr>\n",
              "      <th>0</th>\n",
              "      <td>0</td>\n",
              "      <td>[AC, AL, DF, MG, MS, MT, PE, RJ, RO, RS, SC, TO]</td>\n",
              "    </tr>\n",
              "    <tr>\n",
              "      <th>1</th>\n",
              "      <td>1</td>\n",
              "      <td>[AP, BA, PA, RN, SE]</td>\n",
              "    </tr>\n",
              "    <tr>\n",
              "      <th>2</th>\n",
              "      <td>2</td>\n",
              "      <td>[AM, MA, PB, PI, RR]</td>\n",
              "    </tr>\n",
              "    <tr>\n",
              "      <th>3</th>\n",
              "      <td>3</td>\n",
              "      <td>[CE, ES, GO, PR, SP]</td>\n",
              "    </tr>\n",
              "  </tbody>\n",
              "</table>\n",
              "</div>\n",
              "      <button class=\"colab-df-convert\" onclick=\"convertToInteractive('df-8ad79d05-f633-4416-a76f-77272ce53044')\"\n",
              "              title=\"Convert this dataframe to an interactive table.\"\n",
              "              style=\"display:none;\">\n",
              "        \n",
              "  <svg xmlns=\"http://www.w3.org/2000/svg\" height=\"24px\"viewBox=\"0 0 24 24\"\n",
              "       width=\"24px\">\n",
              "    <path d=\"M0 0h24v24H0V0z\" fill=\"none\"/>\n",
              "    <path d=\"M18.56 5.44l.94 2.06.94-2.06 2.06-.94-2.06-.94-.94-2.06-.94 2.06-2.06.94zm-11 1L8.5 8.5l.94-2.06 2.06-.94-2.06-.94L8.5 2.5l-.94 2.06-2.06.94zm10 10l.94 2.06.94-2.06 2.06-.94-2.06-.94-.94-2.06-.94 2.06-2.06.94z\"/><path d=\"M17.41 7.96l-1.37-1.37c-.4-.4-.92-.59-1.43-.59-.52 0-1.04.2-1.43.59L10.3 9.45l-7.72 7.72c-.78.78-.78 2.05 0 2.83L4 21.41c.39.39.9.59 1.41.59.51 0 1.02-.2 1.41-.59l7.78-7.78 2.81-2.81c.8-.78.8-2.07 0-2.86zM5.41 20L4 18.59l7.72-7.72 1.47 1.35L5.41 20z\"/>\n",
              "  </svg>\n",
              "      </button>\n",
              "      \n",
              "  <style>\n",
              "    .colab-df-container {\n",
              "      display:flex;\n",
              "      flex-wrap:wrap;\n",
              "      gap: 12px;\n",
              "    }\n",
              "\n",
              "    .colab-df-convert {\n",
              "      background-color: #E8F0FE;\n",
              "      border: none;\n",
              "      border-radius: 50%;\n",
              "      cursor: pointer;\n",
              "      display: none;\n",
              "      fill: #1967D2;\n",
              "      height: 32px;\n",
              "      padding: 0 0 0 0;\n",
              "      width: 32px;\n",
              "    }\n",
              "\n",
              "    .colab-df-convert:hover {\n",
              "      background-color: #E2EBFA;\n",
              "      box-shadow: 0px 1px 2px rgba(60, 64, 67, 0.3), 0px 1px 3px 1px rgba(60, 64, 67, 0.15);\n",
              "      fill: #174EA6;\n",
              "    }\n",
              "\n",
              "    [theme=dark] .colab-df-convert {\n",
              "      background-color: #3B4455;\n",
              "      fill: #D2E3FC;\n",
              "    }\n",
              "\n",
              "    [theme=dark] .colab-df-convert:hover {\n",
              "      background-color: #434B5C;\n",
              "      box-shadow: 0px 1px 3px 1px rgba(0, 0, 0, 0.15);\n",
              "      filter: drop-shadow(0px 1px 2px rgba(0, 0, 0, 0.3));\n",
              "      fill: #FFFFFF;\n",
              "    }\n",
              "  </style>\n",
              "\n",
              "      <script>\n",
              "        const buttonEl =\n",
              "          document.querySelector('#df-8ad79d05-f633-4416-a76f-77272ce53044 button.colab-df-convert');\n",
              "        buttonEl.style.display =\n",
              "          google.colab.kernel.accessAllowed ? 'block' : 'none';\n",
              "\n",
              "        async function convertToInteractive(key) {\n",
              "          const element = document.querySelector('#df-8ad79d05-f633-4416-a76f-77272ce53044');\n",
              "          const dataTable =\n",
              "            await google.colab.kernel.invokeFunction('convertToInteractive',\n",
              "                                                     [key], {});\n",
              "          if (!dataTable) return;\n",
              "\n",
              "          const docLinkHtml = 'Like what you see? Visit the ' +\n",
              "            '<a target=\"_blank\" href=https://colab.research.google.com/notebooks/data_table.ipynb>data table notebook</a>'\n",
              "            + ' to learn more about interactive tables.';\n",
              "          element.innerHTML = '';\n",
              "          dataTable['output_type'] = 'display_data';\n",
              "          await google.colab.output.renderOutput(dataTable, element);\n",
              "          const docLink = document.createElement('div');\n",
              "          docLink.innerHTML = docLinkHtml;\n",
              "          element.appendChild(docLink);\n",
              "        }\n",
              "      </script>\n",
              "    </div>\n",
              "  </div>\n",
              "  "
            ]
          },
          "metadata": {},
          "execution_count": 61
        }
      ]
    },
    {
      "cell_type": "code",
      "source": [
        "# seu código\n",
        "\n",
        "sb.scatterplot(data=ideb_2019_scaled, x='taxa_aprovacao', y='ideb', hue='grupos4');\n",
        "\n",
        "aprov = ideb_2019_scaled['taxa_aprovacao']\n",
        "ideb = ideb_2019_scaled['ideb']\n",
        "ufs = ['AC','AL','AP','AM','BA','CE','DF','ES','GO','MA','MT','MS','MG',\n",
        "           'PR','PB','PA','PE','PI','RN','RS','RJ','RO','RR','SC','SE','SP','TO']\n",
        "\n",
        "for i, ufs in enumerate(ufs):\n",
        "    plt.annotate(ufs, (aprov[i], ideb[i]) );\n",
        "\n"
      ],
      "metadata": {
        "id": "uILkB2dwWYA6",
        "colab": {
          "base_uri": "https://localhost:8080/",
          "height": 342
        },
        "outputId": "b3a998a6-6219-416c-a2c9-14ab80111d6e"
      },
      "execution_count": null,
      "outputs": [
        {
          "output_type": "display_data",
          "data": {
            "text/plain": [
              "<Figure size 1008x360 with 1 Axes>"
            ],
            "image/png": "[encoded data removed]"
          },
          "metadata": {}
        }
      ]
    },
    {
      "cell_type": "markdown",
      "source": [
        "### Atividade 12: Qual dos dois valores testados para k seria mais adequado?\n",
        "\n",
        "Resposta: "
      ],
      "metadata": {
        "id": "jAzu927IeS_S"
      }
    },
    {
      "cell_type": "code",
      "source": [
        "sb.boxplot(x=ideb_2019_scaled['grupos4'],y=ideb_2019['ideb'])"
      ],
      "metadata": {
        "colab": {
          "base_uri": "https://localhost:8080/",
          "height": 360
        },
        "id": "UI5BHowEjuAe",
        "outputId": "fb1fba31-a900-4087-a6f4-14b0faecd896"
      },
      "execution_count": null,
      "outputs": [
        {
          "output_type": "execute_result",
          "data": {
            "text/plain": [
              "<matplotlib.axes._subplots.AxesSubplot at 0x7fc3ec46ba30>"
            ]
          },
          "metadata": {},
          "execution_count": 63
        },
        {
          "output_type": "display_data",
          "data": {
            "text/plain": [
              "<Figure size 1008x360 with 1 Axes>"
            ],
            "image/png": "[encoded data removed]"
          },
          "metadata": {}
        }
      ]
    },
    {
      "cell_type": "code",
      "source": [
        "sb.boxplot(x=ideb_2019_scaled['grupos4'],y=ideb_2019['taxa_aprovacao'])"
      ],
      "metadata": {
        "colab": {
          "base_uri": "https://localhost:8080/",
          "height": 360
        },
        "id": "JjY8JIiUjt_n",
        "outputId": "fcbd42c3-dcb9-47ee-dd76-c17607778029"
      },
      "execution_count": null,
      "outputs": [
        {
          "output_type": "execute_result",
          "data": {
            "text/plain": [
              "<matplotlib.axes._subplots.AxesSubplot at 0x7fc3ec27b5b0>"
            ]
          },
          "metadata": {},
          "execution_count": 64
        },
        {
          "output_type": "display_data",
          "data": {
            "text/plain": [
              "<Figure size 1008x360 with 1 Axes>"
            ],
            "image/png": "[encoded data removed]"
          },
          "metadata": {}
        }
      ]
    },
    {
      "cell_type": "code",
      "source": [
        "kmeans = KMeans(n_clusters=5, random_state=42)\n",
        "\n",
        "kmeans.fit(ideb_2019_scaled[['taxa_aprovacao','ideb']])\n",
        "\n",
        "ideb_2019_scaled['grupos5'] = kmeans.labels_.tolist()\n",
        "\n",
        "UFs5 = ideb_2019_scaled.groupby('grupos5')['sigla_uf'].unique().reset_index()\n",
        "UFs5"
      ],
      "metadata": {
        "colab": {
          "base_uri": "https://localhost:8080/",
          "height": 206
        },
        "id": "ggy12yRcjt-m",
        "outputId": "333f77f0-f88a-43fc-d976-0ddd4d863ed8"
      },
      "execution_count": null,
      "outputs": [
        {
          "output_type": "execute_result",
          "data": {
            "text/plain": [
              "   grupos5                              sigla_uf\n",
              "0        0  [AC, AL, DF, MS, MT, PE, RJ, RO, TO]\n",
              "1        1                  [AP, BA, PA, RN, SE]\n",
              "2        2                      [CE, GO, PR, SP]\n",
              "3        3                  [AM, MA, PB, PI, RR]\n",
              "4        4                      [ES, MG, RS, SC]"
            ],
            "text/html": [
              "\n",
              "  <div id=\"df-8b3a6b95-021b-4f70-94d9-fafa6facecd5\">\n",
              "    <div class=\"colab-df-container\">\n",
              "      <div>\n",
              "<style scoped>\n",
              "    .dataframe tbody tr th:only-of-type {\n",
              "        vertical-align: middle;\n",
              "    }\n",
              "\n",
              "    .dataframe tbody tr th {\n",
              "        vertical-align: top;\n",
              "    }\n",
              "\n",
              "    .dataframe thead th {\n",
              "        text-align: right;\n",
              "    }\n",
              "</style>\n",
              "<table border=\"1\" class=\"dataframe\">\n",
              "  <thead>\n",
              "    <tr style=\"text-align: right;\">\n",
              "      <th></th>\n",
              "      <th>grupos5</th>\n",
              "      <th>sigla_uf</th>\n",
              "    </tr>\n",
              "  </thead>\n",
              "  <tbody>\n",
              "    <tr>\n",
              "      <th>0</th>\n",
              "      <td>0</td>\n",
              "      <td>[AC, AL, DF, MS, MT, PE, RJ, RO, TO]</td>\n",
              "    </tr>\n",
              "    <tr>\n",
              "      <th>1</th>\n",
              "      <td>1</td>\n",
              "      <td>[AP, BA, PA, RN, SE]</td>\n",
              "    </tr>\n",
              "    <tr>\n",
              "      <th>2</th>\n",
              "      <td>2</td>\n",
              "      <td>[CE, GO, PR, SP]</td>\n",
              "    </tr>\n",
              "    <tr>\n",
              "      <th>3</th>\n",
              "      <td>3</td>\n",
              "      <td>[AM, MA, PB, PI, RR]</td>\n",
              "    </tr>\n",
              "    <tr>\n",
              "      <th>4</th>\n",
              "      <td>4</td>\n",
              "      <td>[ES, MG, RS, SC]</td>\n",
              "    </tr>\n",
              "  </tbody>\n",
              "</table>\n",
              "</div>\n",
              "      <button class=\"colab-df-convert\" onclick=\"convertToInteractive('df-8b3a6b95-021b-4f70-94d9-fafa6facecd5')\"\n",
              "              title=\"Convert this dataframe to an interactive table.\"\n",
              "              style=\"display:none;\">\n",
              "        \n",
              "  <svg xmlns=\"http://www.w3.org/2000/svg\" height=\"24px\"viewBox=\"0 0 24 24\"\n",
              "       width=\"24px\">\n",
              "    <path d=\"M0 0h24v24H0V0z\" fill=\"none\"/>\n",
              "    <path d=\"M18.56 5.44l.94 2.06.94-2.06 2.06-.94-2.06-.94-.94-2.06-.94 2.06-2.06.94zm-11 1L8.5 8.5l.94-2.06 2.06-.94-2.06-.94L8.5 2.5l-.94 2.06-2.06.94zm10 10l.94 2.06.94-2.06 2.06-.94-2.06-.94-.94-2.06-.94 2.06-2.06.94z\"/><path d=\"M17.41 7.96l-1.37-1.37c-.4-.4-.92-.59-1.43-.59-.52 0-1.04.2-1.43.59L10.3 9.45l-7.72 7.72c-.78.78-.78 2.05 0 2.83L4 21.41c.39.39.9.59 1.41.59.51 0 1.02-.2 1.41-.59l7.78-7.78 2.81-2.81c.8-.78.8-2.07 0-2.86zM5.41 20L4 18.59l7.72-7.72 1.47 1.35L5.41 20z\"/>\n",
              "  </svg>\n",
              "      </button>\n",
              "      \n",
              "  <style>\n",
              "    .colab-df-container {\n",
              "      display:flex;\n",
              "      flex-wrap:wrap;\n",
              "      gap: 12px;\n",
              "    }\n",
              "\n",
              "    .colab-df-convert {\n",
              "      background-color: #E8F0FE;\n",
              "      border: none;\n",
              "      border-radius: 50%;\n",
              "      cursor: pointer;\n",
              "      display: none;\n",
              "      fill: #1967D2;\n",
              "      height: 32px;\n",
              "      padding: 0 0 0 0;\n",
              "      width: 32px;\n",
              "    }\n",
              "\n",
              "    .colab-df-convert:hover {\n",
              "      background-color: #E2EBFA;\n",
              "      box-shadow: 0px 1px 2px rgba(60, 64, 67, 0.3), 0px 1px 3px 1px rgba(60, 64, 67, 0.15);\n",
              "      fill: #174EA6;\n",
              "    }\n",
              "\n",
              "    [theme=dark] .colab-df-convert {\n",
              "      background-color: #3B4455;\n",
              "      fill: #D2E3FC;\n",
              "    }\n",
              "\n",
              "    [theme=dark] .colab-df-convert:hover {\n",
              "      background-color: #434B5C;\n",
              "      box-shadow: 0px 1px 3px 1px rgba(0, 0, 0, 0.15);\n",
              "      filter: drop-shadow(0px 1px 2px rgba(0, 0, 0, 0.3));\n",
              "      fill: #FFFFFF;\n",
              "    }\n",
              "  </style>\n",
              "\n",
              "      <script>\n",
              "        const buttonEl =\n",
              "          document.querySelector('#df-8b3a6b95-021b-4f70-94d9-fafa6facecd5 button.colab-df-convert');\n",
              "        buttonEl.style.display =\n",
              "          google.colab.kernel.accessAllowed ? 'block' : 'none';\n",
              "\n",
              "        async function convertToInteractive(key) {\n",
              "          const element = document.querySelector('#df-8b3a6b95-021b-4f70-94d9-fafa6facecd5');\n",
              "          const dataTable =\n",
              "            await google.colab.kernel.invokeFunction('convertToInteractive',\n",
              "                                                     [key], {});\n",
              "          if (!dataTable) return;\n",
              "\n",
              "          const docLinkHtml = 'Like what you see? Visit the ' +\n",
              "            '<a target=\"_blank\" href=https://colab.research.google.com/notebooks/data_table.ipynb>data table notebook</a>'\n",
              "            + ' to learn more about interactive tables.';\n",
              "          element.innerHTML = '';\n",
              "          dataTable['output_type'] = 'display_data';\n",
              "          await google.colab.output.renderOutput(dataTable, element);\n",
              "          const docLink = document.createElement('div');\n",
              "          docLink.innerHTML = docLinkHtml;\n",
              "          element.appendChild(docLink);\n",
              "        }\n",
              "      </script>\n",
              "    </div>\n",
              "  </div>\n",
              "  "
            ]
          },
          "metadata": {},
          "execution_count": 66
        }
      ]
    },
    {
      "cell_type": "code",
      "source": [
        "sb.boxplot(x=ideb_2019_scaled['grupos5'],y=ideb_2019['ideb'])"
      ],
      "metadata": {
        "colab": {
          "base_uri": "https://localhost:8080/",
          "height": 360
        },
        "id": "GkYPMc9Njt50",
        "outputId": "20e78f2a-3822-41a6-a5b4-76b9a6130662"
      },
      "execution_count": null,
      "outputs": [
        {
          "output_type": "execute_result",
          "data": {
            "text/plain": [
              "<matplotlib.axes._subplots.AxesSubplot at 0x7fc3eb7a2160>"
            ]
          },
          "metadata": {},
          "execution_count": 67
        },
        {
          "output_type": "display_data",
          "data": {
            "text/plain": [
              "<Figure size 1008x360 with 1 Axes>"
            ],
            "image/png": "[encoded data removed]"
          },
          "metadata": {}
        }
      ]
    },
    {
      "cell_type": "code",
      "source": [
        "sb.boxplot(x=ideb_2019_scaled['grupos4'],y=ideb_2019['taxa_aprovacao'])"
      ],
      "metadata": {
        "colab": {
          "base_uri": "https://localhost:8080/",
          "height": 360
        },
        "id": "YaP_0ypujt0g",
        "outputId": "3b160c9d-92fc-44ee-8b3b-68eb75065d17"
      },
      "execution_count": null,
      "outputs": [
        {
          "output_type": "execute_result",
          "data": {
            "text/plain": [
              "<matplotlib.axes._subplots.AxesSubplot at 0x7fc3eb733160>"
            ]
          },
          "metadata": {},
          "execution_count": 68
        },
        {
          "output_type": "display_data",
          "data": {
            "text/plain": [
              "<Figure size 1008x360 with 1 Axes>"
            ],
            "image/png": "[encoded data removed]"
          },
          "metadata": {}
        }
      ]
    },
    {
      "cell_type": "code",
      "source": [
        "sb.scatterplot(data=ideb_2019_scaled, x='taxa_aprovacao', y='ideb', hue='grupos5');\n",
        "\n",
        "aprov = ideb_2019_scaled['taxa_aprovacao']\n",
        "ideb = ideb_2019_scaled['ideb']\n",
        "ufs = ['AC','AL','AP','AM','BA','CE','DF','ES','GO','MA','MT','MS','MG',\n",
        "           'PR','PB','PA','PE','PI','RN','RS','RJ','RO','RR','SC','SE','SP','TO']\n",
        "\n",
        "for i, ufs in enumerate(ufs):\n",
        "    plt.annotate(ufs, (aprov[i], ideb[i]) );\n",
        "\n"
      ],
      "metadata": {
        "colab": {
          "base_uri": "https://localhost:8080/",
          "height": 342
        },
        "id": "c8Cki2qbtQJI",
        "outputId": "b79d06e4-3555-40c2-e43e-bac46810e48a"
      },
      "execution_count": null,
      "outputs": [
        {
          "output_type": "display_data",
          "data": {
            "text/plain": [
              "<Figure size 1008x360 with 1 Axes>"
            ],
            "image/png": "[encoded data removed]"
          },
          "metadata": {}
        }
      ]
    },
    {
      "cell_type": "code",
      "source": [],
      "metadata": {
        "id": "SbyggeNetP-N"
      },
      "execution_count": null,
      "outputs": []
    },
    {
      "cell_type": "code",
      "source": [],
      "metadata": {
        "id": "D0gHQYE1u3Ct"
      },
      "execution_count": null,
      "outputs": []
    },
    {
      "cell_type": "markdown",
      "source": [
        "### Atividade 13: (Para refletir) Como poderíamos fazer a clusterização e visualizar os grupos se tivessemos que usar mais de duas variáveis?\n",
        "\n",
        "Dica: Pesquise sobre Redução de Dimensionalidade, é um assunto bem divertido!"
      ],
      "metadata": {
        "id": "r_po021CjNOz"
      }
    },
    {
      "cell_type": "code",
      "source": [],
      "metadata": {
        "id": "t0l-sC2uf7y3"
      },
      "execution_count": null,
      "outputs": []
    }
  ]
}